{
 "cells": [
  {
   "attachments": {},
   "cell_type": "markdown",
   "metadata": {},
   "source": [
    "## Insights Into Data with Streamlit Dashboard"
   ]
  },
  {
   "attachments": {},
   "cell_type": "markdown",
   "metadata": {},
   "source": [
    "We aim to improve speed of data-oriented web app by creating views using this Jupyter Notebook. Also, this notebook is going to provide us to opportunity of discovering insight into data by diving analysis into chunks.\n",
    "\n",
    "Needed visualizations for the dashboard can be listed under several topics such as:\n",
    "\n",
    "*   Dataset-related insight:\n",
    "    *   Transactions' Date History\n",
    "    *   Company Type Distribution\n",
    "    *   Check Used/Denied Distribution\n",
    "    *   BK's Limit-Risk Distribution\n",
    "    *   TK's Limit-Risk Distribution\n",
    "    *   Company Defined *MUSTERI_RISK_SEVIYESI* distribution\n",
    "*   Segmentation-related insight:\n",
    "    *   Comparing Distribution of ML with *MUSTERI_RISK_SEVIYESI*\n",
    "    *   Limit-Risk Ratio over Segments\n",
    "    *   Account Latency over Segments\n",
    "    *   Transaction Frequency over Segments"
   ]
  },
  {
   "attachments": {},
   "cell_type": "markdown",
   "metadata": {},
   "source": [
    "### Add Libraries and Read Data"
   ]
  },
  {
   "cell_type": "code",
   "execution_count": 1,
   "metadata": {},
   "outputs": [],
   "source": [
    "import pandas as pd\n",
    "import numpy as np\n",
    "\n",
    "# for data visualization\n",
    "import seaborn as sns\n",
    "import matplotlib.pyplot as plt\n",
    "\n",
    "import warnings\n",
    "warnings.simplefilter(action='ignore', category=FutureWarning)\n",
    "warnings.simplefilter(action='ignore', category=UserWarning)"
   ]
  },
  {
   "cell_type": "code",
   "execution_count": 2,
   "metadata": {},
   "outputs": [],
   "source": [
    "bk_data=pd.read_feather('data/bk_customer_segmentation.feather')"
   ]
  },
  {
   "cell_type": "code",
   "execution_count": 3,
   "metadata": {},
   "outputs": [],
   "source": [
    "tk_data=pd.read_feather('data/tk_customer_segmentation.feather')"
   ]
  },
  {
   "attachments": {},
   "cell_type": "markdown",
   "metadata": {},
   "source": [
    "### Analysis on Features"
   ]
  },
  {
   "attachments": {},
   "cell_type": "markdown",
   "metadata": {},
   "source": [
    "##### Customer Risk Level (Pre-Defined By the Company)"
   ]
  },
  {
   "cell_type": "code",
   "execution_count": 68,
   "metadata": {},
   "outputs": [],
   "source": [
    "bk_risk_level = bk_data[['MUSTERI_ID','MUSTERI_RISK_SEVIYESI']]   # get necessary columns from G type customers\n",
    "tk_risk_level = tk_data[['MUSTERI_ID','MUSTERI_RISK_SEVIYESI']]   # get necessary columns from T type customers"
   ]
  },
  {
   "cell_type": "code",
   "execution_count": 70,
   "metadata": {},
   "outputs": [],
   "source": [
    "risk_level = pd.concat([bk_risk_level,tk_risk_level],axis=0)     # union of two dataframes\n",
    "risk_level.reset_index(drop=True,inplace=True)\n",
    "risk_level.drop_duplicates(subset='MUSTERI_ID',keep='first',inplace=True)"
   ]
  },
  {
   "cell_type": "code",
   "execution_count": 71,
   "metadata": {},
   "outputs": [],
   "source": [
    "risk_level = risk_level['MUSTERI_RISK_SEVIYESI'].value_counts().sort_index().reset_index()"
   ]
  },
  {
   "attachments": {},
   "cell_type": "markdown",
   "metadata": {},
   "source": [
    "Add 4 and 5 as index because they exist in the documents although not available on data"
   ]
  },
  {
   "cell_type": "code",
   "execution_count": 73,
   "metadata": {},
   "outputs": [],
   "source": [
    "new_row_4 = {'index':4, 'MUSTERI_RISK_SEVIYESI':0}\n",
    "new_row_5 = {'index':5, 'MUSTERI_RISK_SEVIYESI':0}\n",
    "risk_level= risk_level.append(new_row_4, ignore_index=True)\n",
    "risk_level= risk_level.append(new_row_5, ignore_index=True)"
   ]
  },
  {
   "cell_type": "code",
   "execution_count": 74,
   "metadata": {},
   "outputs": [
    {
     "data": {
      "text/html": [
       "<div>\n",
       "<style scoped>\n",
       "    .dataframe tbody tr th:only-of-type {\n",
       "        vertical-align: middle;\n",
       "    }\n",
       "\n",
       "    .dataframe tbody tr th {\n",
       "        vertical-align: top;\n",
       "    }\n",
       "\n",
       "    .dataframe thead th {\n",
       "        text-align: right;\n",
       "    }\n",
       "</style>\n",
       "<table border=\"1\" class=\"dataframe\">\n",
       "  <thead>\n",
       "    <tr style=\"text-align: right;\">\n",
       "      <th></th>\n",
       "      <th>index</th>\n",
       "      <th>MUSTERI_RISK_SEVIYESI</th>\n",
       "    </tr>\n",
       "  </thead>\n",
       "  <tbody>\n",
       "    <tr>\n",
       "      <th>0</th>\n",
       "      <td>0</td>\n",
       "      <td>64170</td>\n",
       "    </tr>\n",
       "    <tr>\n",
       "      <th>1</th>\n",
       "      <td>1</td>\n",
       "      <td>1448</td>\n",
       "    </tr>\n",
       "    <tr>\n",
       "      <th>2</th>\n",
       "      <td>2</td>\n",
       "      <td>378</td>\n",
       "    </tr>\n",
       "    <tr>\n",
       "      <th>3</th>\n",
       "      <td>3</td>\n",
       "      <td>1226</td>\n",
       "    </tr>\n",
       "    <tr>\n",
       "      <th>4</th>\n",
       "      <td>4</td>\n",
       "      <td>0</td>\n",
       "    </tr>\n",
       "    <tr>\n",
       "      <th>5</th>\n",
       "      <td>5</td>\n",
       "      <td>0</td>\n",
       "    </tr>\n",
       "  </tbody>\n",
       "</table>\n",
       "</div>"
      ],
      "text/plain": [
       "   index  MUSTERI_RISK_SEVIYESI\n",
       "0      0                  64170\n",
       "1      1                   1448\n",
       "2      2                    378\n",
       "3      3                   1226\n",
       "4      4                      0\n",
       "5      5                      0"
      ]
     },
     "execution_count": 74,
     "metadata": {},
     "output_type": "execute_result"
    }
   ],
   "source": [
    "risk_level"
   ]
  },
  {
   "cell_type": "code",
   "execution_count": 75,
   "metadata": {},
   "outputs": [],
   "source": [
    "risk_level.to_feather('streamlit_view/risk_level.feather')"
   ]
  },
  {
   "attachments": {},
   "cell_type": "markdown",
   "metadata": {},
   "source": [
    "##### Counting Customer-Related Info for Metrics"
   ]
  },
  {
   "cell_type": "code",
   "execution_count": null,
   "metadata": {},
   "outputs": [],
   "source": [
    "tk_data_metrics = tk_data[['ID','MUSTERI_ID','KESIDECI_ID','SUBE','CEK_NO']]\n",
    "bk_data_metrics = bk_data[['ID','MUSTERI_ID','KESIDECI_ID','SUBE','CEK_NO']]\n",
    "\n",
    "metrics = pd.concat([tk_data_metrics,bk_data_metrics],axis=0)\n",
    "metrics.reset_index(drop=True,inplace=True)"
   ]
  },
  {
   "cell_type": "code",
   "execution_count": 24,
   "metadata": {},
   "outputs": [
    {
     "data": {
      "text/plain": [
       "389780"
      ]
     },
     "execution_count": 24,
     "metadata": {},
     "output_type": "execute_result"
    }
   ],
   "source": [
    "# count unique count of ID\n",
    "metrics['CEK_NO'].nunique()"
   ]
  },
  {
   "cell_type": "code",
   "execution_count": 28,
   "metadata": {},
   "outputs": [],
   "source": [
    "#metrics.to_feather('streamlit_view/metrics.feather')"
   ]
  },
  {
   "attachments": {},
   "cell_type": "markdown",
   "metadata": {},
   "source": [
    "##### Check Income and Loss of Customers"
   ]
  },
  {
   "cell_type": "code",
   "execution_count": 73,
   "metadata": {},
   "outputs": [],
   "source": [
    "bk_cek_income_loss = bk_data[['ID','MUSTERI_ID','CEK_INCOME','CEK_LOSS','CEK_GELIR_PERCENTAGE']]\n",
    "tk_cek_income_loss = tk_data[['ID','MUSTERI_ID','CEK_INCOME','CEK_LOSS','CEK_GELIR_PERCENTAGE']]\n",
    "\n",
    "cek_income_loss = pd.concat([bk_cek_income_loss,tk_cek_income_loss],axis=0)\n",
    "cek_income_loss = cek_income_loss.reset_index(drop=True)"
   ]
  },
  {
   "cell_type": "code",
   "execution_count": 76,
   "metadata": {},
   "outputs": [],
   "source": [
    "#cek_income_loss.to_feather('streamlit_view/cek_income_loss.feather')"
   ]
  },
  {
   "attachments": {},
   "cell_type": "markdown",
   "metadata": {},
   "source": [
    "##### Transaction Frequency over Customers"
   ]
  },
  {
   "cell_type": "code",
   "execution_count": 4,
   "metadata": {},
   "outputs": [],
   "source": [
    "bk_customer_freq = bk_data[['MUSTERI_ID','TRANSACTIONS_FREQ','KULLANDIRIM','SIRKET_TURU']]\n",
    "tk_customer_freq = tk_data[['MUSTERI_ID','TRANSACTIONS_FREQ','KULLANDIRIM','SIRKET_TURU']]\n",
    "# and union of two data frames\n",
    "customer_freq=pd.concat([bk_customer_freq,tk_customer_freq],axis=0)"
   ]
  },
  {
   "cell_type": "code",
   "execution_count": 5,
   "metadata": {},
   "outputs": [],
   "source": [
    "# drop duplicate records for MUSTERI_ID\n",
    "customer_freq.drop_duplicates(subset='MUSTERI_ID',keep='first',inplace=True)"
   ]
  },
  {
   "cell_type": "code",
   "execution_count": 6,
   "metadata": {},
   "outputs": [],
   "source": [
    "customer_freq.reset_index(drop=True,inplace=True)\n",
    "#customer_freq.to_feather('streamlit_view/customer_frequency.feather')"
   ]
  },
  {
   "cell_type": "code",
   "execution_count": 68,
   "metadata": {},
   "outputs": [
    {
     "data": {
      "text/plain": [
       "[Text(0.5, 0, 'Number of Transactions'), Text(0, 0.5, 'Number of Customers')]"
      ]
     },
     "execution_count": 68,
     "metadata": {},
     "output_type": "execute_result"
    },
    {
     "data": {
      "image/png": "[encoded data removed]",
      "text/plain": [
       "<Figure size 640x480 with 1 Axes>"
      ]
     },
     "metadata": {},
     "output_type": "display_data"
    }
   ],
   "source": [
    "sns.set(style=\"white\")              # set background to white\n",
    "ax=sns.barplot(x=\"TRANSACTIONS_FREQ\", y=\"count\",\n",
    "        data=customer_freq.groupby('TRANSACTIONS_FREQ').count().reset_index().rename(columns={'MUSTERI_ID':'count'}))\n",
    "\n",
    "ax.bar_label(ax.containers[0])      # add values on top of bars\n",
    "sns.set_context(\"paper\", font_scale=1.5)\n",
    "sns.despine(left=True, bottom=True)                                         # delete x and y axis lines\n",
    "ax.set(xlabel='Number of Transactions', ylabel='Number of Customers')       # rename x and y axis"
   ]
  },
  {
   "attachments": {},
   "cell_type": "markdown",
   "metadata": {},
   "source": [
    "##### Distribution of Days Since Last Transaction"
   ]
  },
  {
   "cell_type": "code",
   "execution_count": 55,
   "metadata": {},
   "outputs": [],
   "source": [
    "tk_dataset=pd.read_feather('data/tk_data.feather')"
   ]
  },
  {
   "cell_type": "code",
   "execution_count": 59,
   "metadata": {},
   "outputs": [],
   "source": [
    "tk_yakinlik = tk_dataset[['MUSTERI_ID','DAYS_SINCE_LAST_TRANSACTION']]\n",
    "bk_yakinlik = bk_data[['MUSTERI_ID','DAYS_SINCE_LAST_TRANSACTION']]\n"
   ]
  },
  {
   "cell_type": "code",
   "execution_count": 57,
   "metadata": {},
   "outputs": [
    {
     "name": "stderr",
     "output_type": "stream",
     "text": [
      "C:\\Users\\emirh\\AppData\\Local\\Temp\\ipykernel_21236\\2171703032.py:2: SettingWithCopyWarning: \n",
      "A value is trying to be set on a copy of a slice from a DataFrame\n",
      "\n",
      "See the caveats in the documentation: https://pandas.pydata.org/pandas-docs/stable/user_guide/indexing.html#returning-a-view-versus-a-copy\n",
      "  bk_yakinlik.drop_duplicates(subset='MUSTERI_ID',keep='last',inplace=True)\n",
      "C:\\Users\\emirh\\AppData\\Local\\Temp\\ipykernel_21236\\2171703032.py:3: SettingWithCopyWarning: \n",
      "A value is trying to be set on a copy of a slice from a DataFrame\n",
      "\n",
      "See the caveats in the documentation: https://pandas.pydata.org/pandas-docs/stable/user_guide/indexing.html#returning-a-view-versus-a-copy\n",
      "  tk_yakinlik.drop_duplicates(subset='MUSTERI_ID',keep='last',inplace=True)\n"
     ]
    }
   ],
   "source": [
    "# keep MUSTERI_ID unique by dropping duplicates\n",
    "bk_yakinlik.drop_duplicates(subset='MUSTERI_ID',keep='first',inplace=True)\n",
    "tk_yakinlik.drop_duplicates(subset='MUSTERI_ID',keep='first',inplace=True)"
   ]
  },
  {
   "cell_type": "code",
   "execution_count": 58,
   "metadata": {},
   "outputs": [],
   "source": [
    "last_transact=pd.concat([bk_yakinlik,tk_yakinlik],axis=0)     # union of two dataframes\n",
    "last_transact.reset_index(drop=True,inplace=True)"
   ]
  },
  {
   "cell_type": "code",
   "execution_count": 61,
   "metadata": {},
   "outputs": [],
   "source": [
    "last_transact.drop_duplicates(subset='MUSTERI_ID',keep='first',inplace=True)\n",
    "last_transact.reset_index(drop=True,inplace=True)"
   ]
  },
  {
   "cell_type": "code",
   "execution_count": 29,
   "metadata": {},
   "outputs": [],
   "source": [
    "#last_transact.to_feather('streamlit_view/last_transaction')"
   ]
  },
  {
   "cell_type": "code",
   "execution_count": 62,
   "metadata": {},
   "outputs": [
    {
     "data": {
      "text/plain": [
       "DAYS_SINCE_LAST_TRANSACTION\n",
       "1      1851\n",
       "2      1269\n",
       "3      1089\n",
       "4      1076\n",
       "5      1094\n",
       "       ... \n",
       "327     150\n",
       "330     114\n",
       "331     107\n",
       "332     117\n",
       "333     160\n",
       "Length: 230, dtype: int64"
      ]
     },
     "execution_count": 62,
     "metadata": {},
     "output_type": "execute_result"
    }
   ],
   "source": [
    "last_transact.value_counts('DAYS_SINCE_LAST_TRANSACTION').sort_index(ascending=True)"
   ]
  },
  {
   "attachments": {},
   "cell_type": "markdown",
   "metadata": {},
   "source": [
    "##### Transaction Records over Date\n",
    "\n",
    "The dataset contains check records from 2018 year. Its interval can be defined as from the first day of 2018 to end of November 2018. We are going to present a transaction history with a date filter"
   ]
  },
  {
   "cell_type": "code",
   "execution_count": 109,
   "metadata": {},
   "outputs": [],
   "source": [
    "bk_transact_date=bk_data[['ID','ISLEM_TARIHI','SIRKET_TURU']]   # get necessary columns from G type customers\n",
    "tk_transact_date=tk_data[['ID','ISLEM_TARIHI','SIRKET_TURU']]   # get necessary columns from T type customers\n",
    "\n",
    "transact_date=pd.concat([bk_transact_date,tk_transact_date],axis=0)     # union of two dataframes\n",
    "transact_date.reset_index(drop=True,inplace=True)                       # reset index to save to feather"
   ]
  },
  {
   "cell_type": "code",
   "execution_count": 85,
   "metadata": {},
   "outputs": [
    {
     "data": {
      "image/png": "[encoded data removed]",
      "text/plain": [
       "<Figure size 1200x600 with 1 Axes>"
      ]
     },
     "metadata": {},
     "output_type": "display_data"
    }
   ],
   "source": [
    "plt.figure(figsize=(12, 6))\n",
    "plt.plot(transact_date.groupby('ISLEM_TARIHI')['ID'].count().reset_index()['ISLEM_TARIHI'],\n",
    "    transact_date.groupby('ISLEM_TARIHI')['ID'].count().reset_index()['ID'])\n",
    "plt.xlabel('Date')\n",
    "plt.ylabel('Number of Transactions')\n",
    "plt.title('History of Daily Transactions')\n",
    "plt.xticks(rotation=45)\n",
    "plt.tight_layout()\n",
    "plt.show()"
   ]
  },
  {
   "cell_type": "code",
   "execution_count": 84,
   "metadata": {},
   "outputs": [],
   "source": [
    "# save the view into a feather file\n",
    "#transact_date.to_feather('streamlit_view/transaction_history.feather')"
   ]
  },
  {
   "attachments": {},
   "cell_type": "markdown",
   "metadata": {},
   "source": [
    "##### Distribution of Company Type over Dataframe\n",
    "\n",
    "Using **SIRKET_TURU** to see distribution"
   ]
  },
  {
   "cell_type": "code",
   "execution_count": 11,
   "metadata": {},
   "outputs": [],
   "source": [
    "bk_company_type = bk_data[['MUSTERI_ID','SIRKET_TURU']]   # get necessary columns from G type customers\n",
    "tk_company_type = tk_data[['MUSTERI_ID','SIRKET_TURU']]   # get necessary columns from T type customers"
   ]
  },
  {
   "cell_type": "code",
   "execution_count": 12,
   "metadata": {},
   "outputs": [
    {
     "name": "stderr",
     "output_type": "stream",
     "text": [
      "C:\\Users\\emirh\\AppData\\Local\\Temp\\ipykernel_6848\\1717453501.py:2: SettingWithCopyWarning: \n",
      "A value is trying to be set on a copy of a slice from a DataFrame\n",
      "\n",
      "See the caveats in the documentation: https://pandas.pydata.org/pandas-docs/stable/user_guide/indexing.html#returning-a-view-versus-a-copy\n",
      "  bk_company_type.drop_duplicates(subset='MUSTERI_ID',keep='first',inplace=True)\n",
      "C:\\Users\\emirh\\AppData\\Local\\Temp\\ipykernel_6848\\1717453501.py:3: SettingWithCopyWarning: \n",
      "A value is trying to be set on a copy of a slice from a DataFrame\n",
      "\n",
      "See the caveats in the documentation: https://pandas.pydata.org/pandas-docs/stable/user_guide/indexing.html#returning-a-view-versus-a-copy\n",
      "  tk_company_type.drop_duplicates(subset='MUSTERI_ID',keep='first',inplace=True)\n"
     ]
    }
   ],
   "source": [
    "# keep MUSTERI_ID unique by dropping duplicates\n",
    "bk_company_type.drop_duplicates(subset='MUSTERI_ID',keep='first',inplace=True)\n",
    "tk_company_type.drop_duplicates(subset='MUSTERI_ID',keep='first',inplace=True)"
   ]
  },
  {
   "cell_type": "code",
   "execution_count": 13,
   "metadata": {},
   "outputs": [],
   "source": [
    "company_type=pd.concat([bk_company_type,tk_company_type],axis=0)     # union of two dataframes\n",
    "company_type.reset_index(drop=True,inplace=True)"
   ]
  },
  {
   "cell_type": "code",
   "execution_count": 15,
   "metadata": {},
   "outputs": [
    {
     "data": {
      "text/plain": [
       "G             38374\n",
       "T             28881\n",
       "Name: SIRKET_TURU, dtype: Int64"
      ]
     },
     "execution_count": 15,
     "metadata": {},
     "output_type": "execute_result"
    }
   ],
   "source": [
    "company_type['SIRKET_TURU'].value_counts()"
   ]
  },
  {
   "cell_type": "code",
   "execution_count": 93,
   "metadata": {},
   "outputs": [],
   "source": [
    "# save the view into a feather file\n",
    "#company_type.to_feather('streamlit_view/company_type_distribution.feather')"
   ]
  },
  {
   "attachments": {},
   "cell_type": "markdown",
   "metadata": {},
   "source": [
    "##### Use of Checks over Dataset\n",
    "\n",
    "Using **KULLANDIRIM** to see distribution"
   ]
  },
  {
   "cell_type": "code",
   "execution_count": 98,
   "metadata": {},
   "outputs": [],
   "source": [
    "bk_company_type_k = bk_data[['MUSTERI_ID','KULLANDIRIM']]   # get necessary columns from G type customers\n",
    "tk_company_type_k = tk_data[['MUSTERI_ID','KULLANDIRIM']]   # get necessary columns from T type customers"
   ]
  },
  {
   "cell_type": "code",
   "execution_count": 99,
   "metadata": {},
   "outputs": [
    {
     "name": "stderr",
     "output_type": "stream",
     "text": [
      "C:\\Users\\emirh\\AppData\\Local\\Temp\\ipykernel_9820\\1924120.py:2: SettingWithCopyWarning: \n",
      "A value is trying to be set on a copy of a slice from a DataFrame\n",
      "\n",
      "See the caveats in the documentation: https://pandas.pydata.org/pandas-docs/stable/user_guide/indexing.html#returning-a-view-versus-a-copy\n",
      "  bk_company_type_k.drop_duplicates(subset='MUSTERI_ID',keep='first',inplace=True)\n",
      "C:\\Users\\emirh\\AppData\\Local\\Temp\\ipykernel_9820\\1924120.py:3: SettingWithCopyWarning: \n",
      "A value is trying to be set on a copy of a slice from a DataFrame\n",
      "\n",
      "See the caveats in the documentation: https://pandas.pydata.org/pandas-docs/stable/user_guide/indexing.html#returning-a-view-versus-a-copy\n",
      "  tk_company_type_k.drop_duplicates(subset='MUSTERI_ID',keep='first',inplace=True)\n"
     ]
    }
   ],
   "source": [
    "# keep MUSTERI_ID unique by dropping duplicates\n",
    "bk_company_type_k.drop_duplicates(subset='MUSTERI_ID',keep='first',inplace=True)\n",
    "tk_company_type_k.drop_duplicates(subset='MUSTERI_ID',keep='first',inplace=True)"
   ]
  },
  {
   "cell_type": "code",
   "execution_count": 100,
   "metadata": {},
   "outputs": [],
   "source": [
    "company_type_k=pd.concat([bk_company_type,tk_company_type],axis=0)     # union of two dataframes\n",
    "company_type_k.reset_index(drop=True,inplace=True)"
   ]
  },
  {
   "cell_type": "code",
   "execution_count": 102,
   "metadata": {},
   "outputs": [],
   "source": [
    "# save the view into a feather file\n",
    "#company_type_k.to_feather('streamlit_view/companies_KV_KY_distribution.feather')"
   ]
  },
  {
   "attachments": {},
   "cell_type": "markdown",
   "metadata": {},
   "source": [
    "##### Check Amount by KV/KY"
   ]
  },
  {
   "cell_type": "code",
   "execution_count": 5,
   "metadata": {},
   "outputs": [],
   "source": [
    "\n",
    "bk_cek_tutar = bk_data[['ID','MUSTERI_ID','CEK_TUTAR','KULLANDIRIM']]   # get necessary columns from G type customers\n",
    "tk_cek_tutar = tk_data[['ID','MUSTERI_ID','CEK_TUTAR','KULLANDIRIM']]   # get necessary columns from G type customers\n",
    "\n",
    "# concat two dataframes\n",
    "cek_tutar=pd.concat([bk_cek_tutar,tk_cek_tutar],axis=0)     # union of two dataframes"
   ]
  },
  {
   "cell_type": "code",
   "execution_count": 24,
   "metadata": {},
   "outputs": [],
   "source": [
    "cek_tutar.reset_index(drop=True,inplace=True)\n",
    "#cek_tutar.to_feather('streamlit_view/cek_tutar_by_kullandırım.feather')"
   ]
  },
  {
   "cell_type": "code",
   "execution_count": 19,
   "metadata": {},
   "outputs": [],
   "source": [
    "def cek_tutar_histogram(KULLANDIRIM):\n",
    "    sns.displot(cek_tutar[cek_tutar['KULLANDIRIM']==KULLANDIRIM].groupby('CEK_TUTAR')['ID'].count().reset_index(),\n",
    "        x=cek_tutar[cek_tutar['KULLANDIRIM']==KULLANDIRIM].groupby('CEK_TUTAR')['ID'].count().reset_index()['CEK_TUTAR'], kind=\"kde\")\n",
    "\n",
    "cek_tutar_histogram('KV')\n",
    "cek_tutar_histogram('KY')"
   ]
  },
  {
   "cell_type": "code",
   "execution_count": 17,
   "metadata": {},
   "outputs": [
    {
     "data": {
      "image/png": "[encoded data removed]",
      "text/plain": [
       "<Figure size 1200x600 with 1 Axes>"
      ]
     },
     "metadata": {},
     "output_type": "display_data"
    }
   ],
   "source": [
    "# visualize histogram of cek_tutar_kv\n",
    "plt.figure(figsize=(12, 6))\n",
    "plt.hist(cek_tutar[cek_tutar['KULLANDIRIM']=='KV'].groupby('CEK_TUTAR')['ID'].count().reset_index()['CEK_TUTAR'],bins=100)\n",
    "plt.show()"
   ]
  },
  {
   "attachments": {},
   "cell_type": "markdown",
   "metadata": {},
   "source": [
    "##### Limit/Risk Distribution for BK and TK\n",
    "\n",
    "We are going to analyze this separately for both G type and T type customers. Visualizing it with scatter plot is going to perform trending line of these correlation"
   ]
  },
  {
   "attachments": {},
   "cell_type": "markdown",
   "metadata": {},
   "source": [
    "> For T type Customers"
   ]
  },
  {
   "cell_type": "code",
   "execution_count": 106,
   "metadata": {},
   "outputs": [],
   "source": [
    "tk_limit_risk = tk_data[['MUSTERI_ID','TK_NAKDILIMIT','TK_NAKDIRISK',\n",
    "                'TK_GAYRINAKDILIMIT','TK_GAYRINAKDIRISK']]     # get necessary columns from T type customers"
   ]
  },
  {
   "cell_type": "code",
   "execution_count": 108,
   "metadata": {},
   "outputs": [],
   "source": [
    "#tk_limit_risk.to_feather('streamlit_view/tk_limit_risk_scatter.feather')"
   ]
  },
  {
   "attachments": {},
   "cell_type": "markdown",
   "metadata": {},
   "source": [
    "> For G type"
   ]
  },
  {
   "cell_type": "code",
   "execution_count": 34,
   "metadata": {},
   "outputs": [],
   "source": [
    "bk_limit_risk = bk_data[['MUSTERI_ID','BK_LIMIT','BK_RISK']]     # get necessary columns from G type customers"
   ]
  },
  {
   "cell_type": "code",
   "execution_count": 111,
   "metadata": {},
   "outputs": [],
   "source": [
    "#bk_limit_risk.to_feather('streamlit_view/bk_limit_risk_scatter.feather')"
   ]
  },
  {
   "attachments": {},
   "cell_type": "markdown",
   "metadata": {},
   "source": [
    "### Cluster-Related Descriptive Analysis"
   ]
  },
  {
   "attachments": {},
   "cell_type": "markdown",
   "metadata": {},
   "source": [
    "#### G Type Cluster"
   ]
  },
  {
   "attachments": {},
   "cell_type": "markdown",
   "metadata": {},
   "source": [
    "##### Preprocess for BK\n",
    "\n",
    "\n",
    "Dive Into Data and Reshape it before creating views"
   ]
  },
  {
   "attachments": {},
   "cell_type": "markdown",
   "metadata": {},
   "source": [
    "Choose necessary data for analysis"
   ]
  },
  {
   "cell_type": "code",
   "execution_count": 5,
   "metadata": {},
   "outputs": [],
   "source": [
    "bk_cluster = bk_data[['MUSTERI_ID','CLUSTER_LABELS_3','MUSTERI_RISK_SEVIYESI','BK_ORAN', 'BK_GECIKMEHESAP', 'BK_GECIKMEBAKIYE',\n",
    "                'KESIDECI_COUNT','SUBE_COUNT','CEK_GELIR_PERCENTAGE', 'CEK_LOSS', 'DAYS_SINCE_LAST_TRANSACTION',\n",
    "                'One Timer','Very Often','Often','Rare']]     # get necessary columns from G type customers"
   ]
  },
  {
   "attachments": {},
   "cell_type": "markdown",
   "metadata": {},
   "source": [
    "Rename using report coming from *ENM Team*, where:\n",
    "\n",
    "*    2 is **G-Diamond** and *most reliable* customer segment\n",
    "*    0 is **G-Gold** and *moderately* reliable segment\n",
    "*    1 is **G-Bronze** and *least reliable* customer segment"
   ]
  },
  {
   "cell_type": "code",
   "execution_count": 6,
   "metadata": {},
   "outputs": [
    {
     "name": "stderr",
     "output_type": "stream",
     "text": [
      "C:\\Users\\emirh\\AppData\\Local\\Temp\\ipykernel_1656\\1694390047.py:2: SettingWithCopyWarning: \n",
      "A value is trying to be set on a copy of a slice from a DataFrame\n",
      "\n",
      "See the caveats in the documentation: https://pandas.pydata.org/pandas-docs/stable/user_guide/indexing.html#returning-a-view-versus-a-copy\n",
      "  bk_cluster['CLUSTER_LABELS_3'].replace({0:'G-Gold',1:'G-Bronze',2:'G-Diamond'},inplace=True)\n"
     ]
    }
   ],
   "source": [
    "# rename values of CLUSTER_LABELS_3 column\n",
    "bk_cluster['CLUSTER_LABELS_3'].replace({0:'G-Gold',1:'G-Bronze',2:'G-Diamond'},inplace=True)"
   ]
  },
  {
   "attachments": {},
   "cell_type": "markdown",
   "metadata": {},
   "source": [
    "Aggregate to Analyze"
   ]
  },
  {
   "cell_type": "code",
   "execution_count": 7,
   "metadata": {},
   "outputs": [],
   "source": [
    "# aggregate customer clusters by mean\n",
    "bk_cluster = bk_cluster.groupby(['CLUSTER_LABELS_3']).mean().reset_index()"
   ]
  },
  {
   "attachments": {},
   "cell_type": "markdown",
   "metadata": {},
   "source": [
    "Rename column names"
   ]
  },
  {
   "cell_type": "code",
   "execution_count": 8,
   "metadata": {},
   "outputs": [],
   "source": [
    "bk_cluster.rename(columns={'CLUSTER_LABELS_3':'Segment','BK_ORAN':'Limit-Risk Ratio', 'KESIDECI_COUNT':'Number of Drawers','SUBE_COUNT':'Number of Branches',\n",
    "                        'BK_GECIKMEBAKIYE':'Account Latency Amount','BK_GECIKMEHESAP':'Number of Latency Accounts',\n",
    "                        'CEK_GELIR_PERCENTAGE':'Check Income (%)','DAYS_SINCE_LAST_TRANSACTION':'Proximity to Last Transaction (by Days)',\n",
    "                        'MUSTERI_RISK_SEVIYESI':'Customer Risk Level (pre-defined by Company)','CEK_LOSS':'Check Loss (from Denied Check Usages)'},inplace=True)"
   ]
  },
  {
   "cell_type": "code",
   "execution_count": 9,
   "metadata": {},
   "outputs": [
    {
     "data": {
      "text/html": [
       "<div>\n",
       "<style scoped>\n",
       "    .dataframe tbody tr th:only-of-type {\n",
       "        vertical-align: middle;\n",
       "    }\n",
       "\n",
       "    .dataframe tbody tr th {\n",
       "        vertical-align: top;\n",
       "    }\n",
       "\n",
       "    .dataframe thead th {\n",
       "        text-align: right;\n",
       "    }\n",
       "</style>\n",
       "<table border=\"1\" class=\"dataframe\">\n",
       "  <thead>\n",
       "    <tr style=\"text-align: right;\">\n",
       "      <th></th>\n",
       "      <th>Segment</th>\n",
       "      <th>MUSTERI_ID</th>\n",
       "      <th>Customer Risk Level (pre-defined by Company)</th>\n",
       "      <th>Limit-Risk Ratio</th>\n",
       "      <th>Number of Latency Accounts</th>\n",
       "      <th>Account Latency Amount</th>\n",
       "      <th>Number of Drawers</th>\n",
       "      <th>Number of Branches</th>\n",
       "      <th>Check Income (%)</th>\n",
       "      <th>Check Loss (from Denied Check Usages)</th>\n",
       "      <th>Proximity to Last Transaction (by Days)</th>\n",
       "      <th>One Timer</th>\n",
       "      <th>Very Often</th>\n",
       "      <th>Often</th>\n",
       "      <th>Rare</th>\n",
       "    </tr>\n",
       "  </thead>\n",
       "  <tbody>\n",
       "    <tr>\n",
       "      <th>0</th>\n",
       "      <td>G-Bronze</td>\n",
       "      <td>1.081039e+07</td>\n",
       "      <td>0.068726</td>\n",
       "      <td>1.341041</td>\n",
       "      <td>2.529633</td>\n",
       "      <td>6949.574151</td>\n",
       "      <td>18.688370</td>\n",
       "      <td>1.027824</td>\n",
       "      <td>0.362917</td>\n",
       "      <td>636103.715345</td>\n",
       "      <td>60.835142</td>\n",
       "      <td>0.084585</td>\n",
       "      <td>0.832638</td>\n",
       "      <td>0.070952</td>\n",
       "      <td>0.011825</td>\n",
       "    </tr>\n",
       "    <tr>\n",
       "      <th>1</th>\n",
       "      <td>G-Diamond</td>\n",
       "      <td>9.912941e+06</td>\n",
       "      <td>0.046540</td>\n",
       "      <td>6.613556</td>\n",
       "      <td>2.733103</td>\n",
       "      <td>4599.717221</td>\n",
       "      <td>14.561414</td>\n",
       "      <td>1.018009</td>\n",
       "      <td>0.399722</td>\n",
       "      <td>421660.799976</td>\n",
       "      <td>63.204561</td>\n",
       "      <td>0.075918</td>\n",
       "      <td>0.784374</td>\n",
       "      <td>0.123457</td>\n",
       "      <td>0.016251</td>\n",
       "    </tr>\n",
       "    <tr>\n",
       "      <th>2</th>\n",
       "      <td>G-Gold</td>\n",
       "      <td>1.045723e+07</td>\n",
       "      <td>0.035964</td>\n",
       "      <td>1289.983955</td>\n",
       "      <td>1.694005</td>\n",
       "      <td>1383.049824</td>\n",
       "      <td>10.676083</td>\n",
       "      <td>1.017202</td>\n",
       "      <td>0.434880</td>\n",
       "      <td>292463.961226</td>\n",
       "      <td>68.981743</td>\n",
       "      <td>0.089986</td>\n",
       "      <td>0.721044</td>\n",
       "      <td>0.165794</td>\n",
       "      <td>0.023176</td>\n",
       "    </tr>\n",
       "  </tbody>\n",
       "</table>\n",
       "</div>"
      ],
      "text/plain": [
       "     Segment    MUSTERI_ID  Customer Risk Level (pre-defined by Company)  \\\n",
       "0   G-Bronze  1.081039e+07                                      0.068726   \n",
       "1  G-Diamond  9.912941e+06                                      0.046540   \n",
       "2     G-Gold  1.045723e+07                                      0.035964   \n",
       "\n",
       "   Limit-Risk Ratio  Number of Latency Accounts  Account Latency Amount  \\\n",
       "0          1.341041                    2.529633             6949.574151   \n",
       "1          6.613556                    2.733103             4599.717221   \n",
       "2       1289.983955                    1.694005             1383.049824   \n",
       "\n",
       "   Number of Drawers  Number of Branches  Check Income (%)  \\\n",
       "0          18.688370            1.027824          0.362917   \n",
       "1          14.561414            1.018009          0.399722   \n",
       "2          10.676083            1.017202          0.434880   \n",
       "\n",
       "   Check Loss (from Denied Check Usages)  \\\n",
       "0                          636103.715345   \n",
       "1                          421660.799976   \n",
       "2                          292463.961226   \n",
       "\n",
       "   Proximity to Last Transaction (by Days)  One Timer  Very Often     Often  \\\n",
       "0                                60.835142   0.084585    0.832638  0.070952   \n",
       "1                                63.204561   0.075918    0.784374  0.123457   \n",
       "2                                68.981743   0.089986    0.721044  0.165794   \n",
       "\n",
       "       Rare  \n",
       "0  0.011825  \n",
       "1  0.016251  \n",
       "2  0.023176  "
      ]
     },
     "execution_count": 9,
     "metadata": {},
     "output_type": "execute_result"
    }
   ],
   "source": [
    "bk_cluster"
   ]
  },
  {
   "cell_type": "code",
   "execution_count": 27,
   "metadata": {},
   "outputs": [],
   "source": [
    "#bk_cluster.to_feather('streamlit_view/bk_cluster.feather')"
   ]
  },
  {
   "attachments": {},
   "cell_type": "markdown",
   "metadata": {},
   "source": [
    "##### Distribution of BK Segments by Customers"
   ]
  },
  {
   "cell_type": "code",
   "execution_count": 27,
   "metadata": {},
   "outputs": [],
   "source": [
    "bk_cluster_distribution = bk_data[['MUSTERI_ID','CLUSTER_LABELS_3']]"
   ]
  },
  {
   "cell_type": "code",
   "execution_count": 28,
   "metadata": {},
   "outputs": [],
   "source": [
    "# delete duplicate MUSTERI_ID\n",
    "bk_cluster_distribution = bk_cluster_distribution.drop_duplicates(subset='MUSTERI_ID',keep='first')"
   ]
  },
  {
   "cell_type": "code",
   "execution_count": 29,
   "metadata": {},
   "outputs": [],
   "source": [
    "bk_cluster_distribution = bk_cluster_distribution['CLUSTER_LABELS_3'].value_counts()\n",
    "bk_cluster_distribution = bk_cluster_distribution.reset_index()"
   ]
  },
  {
   "cell_type": "code",
   "execution_count": 30,
   "metadata": {},
   "outputs": [],
   "source": [
    "bk_cluster_distribution = bk_cluster_distribution.rename(columns={'index':'Segment','CLUSTER_LABELS_3':'Count'})\n",
    "bk_cluster_distribution['Segment'].replace({0:'G-Gold',1:'G-Bronze',2:'G-Diamond'},inplace=True)"
   ]
  },
  {
   "cell_type": "code",
   "execution_count": 31,
   "metadata": {},
   "outputs": [
    {
     "data": {
      "text/html": [
       "<div>\n",
       "<style scoped>\n",
       "    .dataframe tbody tr th:only-of-type {\n",
       "        vertical-align: middle;\n",
       "    }\n",
       "\n",
       "    .dataframe tbody tr th {\n",
       "        vertical-align: top;\n",
       "    }\n",
       "\n",
       "    .dataframe thead th {\n",
       "        text-align: right;\n",
       "    }\n",
       "</style>\n",
       "<table border=\"1\" class=\"dataframe\">\n",
       "  <thead>\n",
       "    <tr style=\"text-align: right;\">\n",
       "      <th></th>\n",
       "      <th>Segment</th>\n",
       "      <th>Count</th>\n",
       "    </tr>\n",
       "  </thead>\n",
       "  <tbody>\n",
       "    <tr>\n",
       "      <th>0</th>\n",
       "      <td>G-Gold</td>\n",
       "      <td>31094</td>\n",
       "    </tr>\n",
       "    <tr>\n",
       "      <th>1</th>\n",
       "      <td>G-Diamond</td>\n",
       "      <td>6485</td>\n",
       "    </tr>\n",
       "    <tr>\n",
       "      <th>2</th>\n",
       "      <td>G-Bronze</td>\n",
       "      <td>795</td>\n",
       "    </tr>\n",
       "  </tbody>\n",
       "</table>\n",
       "</div>"
      ],
      "text/plain": [
       "     Segment  Count\n",
       "0     G-Gold  31094\n",
       "1  G-Diamond   6485\n",
       "2   G-Bronze    795"
      ]
     },
     "execution_count": 31,
     "metadata": {},
     "output_type": "execute_result"
    }
   ],
   "source": [
    "bk_cluster_distribution"
   ]
  },
  {
   "cell_type": "code",
   "execution_count": 32,
   "metadata": {},
   "outputs": [],
   "source": [
    "#bk_cluster_distribution.to_feather('streamlit_view/bk_cluster_distribution')"
   ]
  },
  {
   "attachments": {},
   "cell_type": "markdown",
   "metadata": {},
   "source": [
    "##### Frequency of Segments of BK"
   ]
  },
  {
   "cell_type": "code",
   "execution_count": 11,
   "metadata": {},
   "outputs": [
    {
     "data": {
      "text/html": [
       "<div>\n",
       "<style scoped>\n",
       "    .dataframe tbody tr th:only-of-type {\n",
       "        vertical-align: middle;\n",
       "    }\n",
       "\n",
       "    .dataframe tbody tr th {\n",
       "        vertical-align: top;\n",
       "    }\n",
       "\n",
       "    .dataframe thead th {\n",
       "        text-align: right;\n",
       "    }\n",
       "</style>\n",
       "<table border=\"1\" class=\"dataframe\">\n",
       "  <thead>\n",
       "    <tr style=\"text-align: right;\">\n",
       "      <th></th>\n",
       "      <th>Segment</th>\n",
       "      <th>MUSTERI_ID</th>\n",
       "      <th>Customer Risk Level (pre-defined by Company)</th>\n",
       "      <th>Limit-Risk Ratio</th>\n",
       "      <th>Number of Latency Accounts</th>\n",
       "      <th>Account Latency Amount</th>\n",
       "      <th>Number of Drawers</th>\n",
       "      <th>Number of Branches</th>\n",
       "      <th>Check Income (%)</th>\n",
       "      <th>Check Loss (from Denied Check Usages)</th>\n",
       "      <th>Proximity to Last Transaction (by Days)</th>\n",
       "      <th>One Timer</th>\n",
       "      <th>Very Often</th>\n",
       "      <th>Often</th>\n",
       "      <th>Rare</th>\n",
       "    </tr>\n",
       "  </thead>\n",
       "  <tbody>\n",
       "    <tr>\n",
       "      <th>0</th>\n",
       "      <td>G-Bronze</td>\n",
       "      <td>1.081039e+07</td>\n",
       "      <td>0.068726</td>\n",
       "      <td>1.341041</td>\n",
       "      <td>2.529633</td>\n",
       "      <td>6949.574151</td>\n",
       "      <td>18.688370</td>\n",
       "      <td>1.027824</td>\n",
       "      <td>0.362917</td>\n",
       "      <td>636103.715345</td>\n",
       "      <td>60.835142</td>\n",
       "      <td>0.084585</td>\n",
       "      <td>0.832638</td>\n",
       "      <td>0.070952</td>\n",
       "      <td>0.011825</td>\n",
       "    </tr>\n",
       "    <tr>\n",
       "      <th>1</th>\n",
       "      <td>G-Diamond</td>\n",
       "      <td>9.912941e+06</td>\n",
       "      <td>0.046540</td>\n",
       "      <td>6.613556</td>\n",
       "      <td>2.733103</td>\n",
       "      <td>4599.717221</td>\n",
       "      <td>14.561414</td>\n",
       "      <td>1.018009</td>\n",
       "      <td>0.399722</td>\n",
       "      <td>421660.799976</td>\n",
       "      <td>63.204561</td>\n",
       "      <td>0.075918</td>\n",
       "      <td>0.784374</td>\n",
       "      <td>0.123457</td>\n",
       "      <td>0.016251</td>\n",
       "    </tr>\n",
       "    <tr>\n",
       "      <th>2</th>\n",
       "      <td>G-Gold</td>\n",
       "      <td>1.045723e+07</td>\n",
       "      <td>0.035964</td>\n",
       "      <td>1289.983955</td>\n",
       "      <td>1.694005</td>\n",
       "      <td>1383.049824</td>\n",
       "      <td>10.676083</td>\n",
       "      <td>1.017202</td>\n",
       "      <td>0.434880</td>\n",
       "      <td>292463.961226</td>\n",
       "      <td>68.981743</td>\n",
       "      <td>0.089986</td>\n",
       "      <td>0.721044</td>\n",
       "      <td>0.165794</td>\n",
       "      <td>0.023176</td>\n",
       "    </tr>\n",
       "  </tbody>\n",
       "</table>\n",
       "</div>"
      ],
      "text/plain": [
       "     Segment    MUSTERI_ID  Customer Risk Level (pre-defined by Company)  \\\n",
       "0   G-Bronze  1.081039e+07                                      0.068726   \n",
       "1  G-Diamond  9.912941e+06                                      0.046540   \n",
       "2     G-Gold  1.045723e+07                                      0.035964   \n",
       "\n",
       "   Limit-Risk Ratio  Number of Latency Accounts  Account Latency Amount  \\\n",
       "0          1.341041                    2.529633             6949.574151   \n",
       "1          6.613556                    2.733103             4599.717221   \n",
       "2       1289.983955                    1.694005             1383.049824   \n",
       "\n",
       "   Number of Drawers  Number of Branches  Check Income (%)  \\\n",
       "0          18.688370            1.027824          0.362917   \n",
       "1          14.561414            1.018009          0.399722   \n",
       "2          10.676083            1.017202          0.434880   \n",
       "\n",
       "   Check Loss (from Denied Check Usages)  \\\n",
       "0                          636103.715345   \n",
       "1                          421660.799976   \n",
       "2                          292463.961226   \n",
       "\n",
       "   Proximity to Last Transaction (by Days)  One Timer  Very Often     Often  \\\n",
       "0                                60.835142   0.084585    0.832638  0.070952   \n",
       "1                                63.204561   0.075918    0.784374  0.123457   \n",
       "2                                68.981743   0.089986    0.721044  0.165794   \n",
       "\n",
       "       Rare  \n",
       "0  0.011825  \n",
       "1  0.016251  \n",
       "2  0.023176  "
      ]
     },
     "execution_count": 11,
     "metadata": {},
     "output_type": "execute_result"
    }
   ],
   "source": [
    "bk_cluster"
   ]
  },
  {
   "cell_type": "code",
   "execution_count": 12,
   "metadata": {},
   "outputs": [],
   "source": [
    "bk_cluster_freq = bk_cluster[['Segment','One Timer','Very Often','Often','Rare','Proximity to Last Transaction (by Days)']]"
   ]
  },
  {
   "cell_type": "code",
   "execution_count": 14,
   "metadata": {},
   "outputs": [],
   "source": [
    "#bk_cluster_freq.to_feather('streamlit_view/bk_cluster_frequency.feather')"
   ]
  },
  {
   "attachments": {},
   "cell_type": "markdown",
   "metadata": {},
   "source": [
    "##### Check Income for BK"
   ]
  },
  {
   "cell_type": "code",
   "execution_count": 10,
   "metadata": {},
   "outputs": [],
   "source": [
    "bk_check_income = bk_cluster[['Segment','Check Income (%)']]     # get necessary columns from G type customers"
   ]
  },
  {
   "cell_type": "code",
   "execution_count": 33,
   "metadata": {},
   "outputs": [
    {
     "name": "stderr",
     "output_type": "stream",
     "text": [
      "C:\\Users\\emirh\\AppData\\Local\\Temp\\ipykernel_19748\\2444872118.py:1: SettingWithCopyWarning: \n",
      "A value is trying to be set on a copy of a slice from a DataFrame.\n",
      "Try using .loc[row_indexer,col_indexer] = value instead\n",
      "\n",
      "See the caveats in the documentation: https://pandas.pydata.org/pandas-docs/stable/user_guide/indexing.html#returning-a-view-versus-a-copy\n",
      "  bk_check_income['Check Loss (%)'] = 1 - bk_check_income['Check Income (%)']\n"
     ]
    }
   ],
   "source": [
    "bk_check_income['Check Loss (%)'] = 1 - bk_check_income['Check Income (%)']"
   ]
  },
  {
   "cell_type": "code",
   "execution_count": 41,
   "metadata": {},
   "outputs": [],
   "source": [
    "#bk_check_income.to_feather('streamlit_view/bk_cluster_check_income.feather')"
   ]
  },
  {
   "cell_type": "code",
   "execution_count": null,
   "metadata": {},
   "outputs": [],
   "source": [
    "# create stacked bar chart using two columns with plotly lib\n",
    "import plotly.express as px\n",
    "fig = px.bar(bk_check_income, x=\"Segment\",\n",
    "        y=[\"Check Income (%)\", \"Check Loss (%)\"], title=\"Check Income and Loss by Customer Segment\")\n",
    "fig.show()"
   ]
  },
  {
   "attachments": {},
   "cell_type": "markdown",
   "metadata": {},
   "source": [
    "##### Distribution of Segments on Scatter Plot "
   ]
  },
  {
   "cell_type": "code",
   "execution_count": 54,
   "metadata": {},
   "outputs": [],
   "source": [
    "bk_cluster_scatter_map = bk_data[['MUSTERI_ID','CLUSTER_LABELS_3','BK_LIMIT','BK_RISK']]\n",
    "bk_cluster_scatter_map =  bk_cluster_scatter_map.drop_duplicates(subset='MUSTERI_ID',keep='first')"
   ]
  },
  {
   "cell_type": "code",
   "execution_count": 55,
   "metadata": {},
   "outputs": [],
   "source": [
    "bk_cluster_scatter_map = bk_cluster_scatter_map.reset_index()"
   ]
  },
  {
   "cell_type": "code",
   "execution_count": 56,
   "metadata": {},
   "outputs": [],
   "source": [
    "# rename values of CLUSTER_LABELS_3 column\n",
    "bk_cluster_scatter_map['CLUSTER_LABELS_3'].replace({0:'G-Gold',1:'G-Bronze',2:'G-Diamond'},inplace=True)"
   ]
  },
  {
   "cell_type": "code",
   "execution_count": 57,
   "metadata": {},
   "outputs": [],
   "source": [
    "bk_cluster_scatter_map.to_feather('streamlit_view/bk_cluster_scatter_map.feather')"
   ]
  },
  {
   "attachments": {},
   "cell_type": "markdown",
   "metadata": {},
   "source": [
    "#### T Type Cluster"
   ]
  },
  {
   "cell_type": "code",
   "execution_count": 87,
   "metadata": {},
   "outputs": [
    {
     "data": {
      "text/plain": [
       "Index(['MUSTERI_ID', 'ID', 'CEK_NO', 'CEK_TUTAR', 'SIRKET_TURU', 'KULLANDIRIM',\n",
       "       'SUBE', 'KESIDECI_ID', 'ISLEM_TARIHI', 'TK_NAKDILIMIT', 'TK_NAKDIRISK',\n",
       "       'TK_GAYRINAKDILIMIT', 'TK_GAYRINAKDIRISK', 'TK_GECIKMEHESAP',\n",
       "       'TK_GECIKMEBAKIYE', 'TK_KURUMSAYISI', 'MUSTERI_RISK_SEVIYESI',\n",
       "       'TOTAL_RISK', 'TOTAL_LIMIT', 'TK_ORAN', 'KESIDECI_COUNT', 'CEK_INCOME',\n",
       "       'CEK_LOSS', 'CEK_GELIR_PERCENTAGE', 'AVERAGE_DAYS', 'TRANSACTIONS_FREQ',\n",
       "       'One Timer', 'Very Often', 'Often', 'Rare', 'CLUSTER_LABELS_4',\n",
       "       'CLUSTER_LABELS_3'],\n",
       "      dtype='object')"
      ]
     },
     "execution_count": 87,
     "metadata": {},
     "output_type": "execute_result"
    }
   ],
   "source": [
    "tk_data.columns"
   ]
  },
  {
   "cell_type": "code",
   "execution_count": 88,
   "metadata": {},
   "outputs": [],
   "source": [
    "tk_cluster = tk_data[['CLUSTER_LABELS_3','TK_ORAN','KESIDECI_COUNT','CEK_GELIR_PERCENTAGE',\n",
    "    'CEK_INCOME','TK_GECIKMEHESAP','TK_GECIKMEBAKIYE',\n",
    "    'One Timer', 'Very Often', 'Often', 'Rare']]"
   ]
  },
  {
   "cell_type": "code",
   "execution_count": 89,
   "metadata": {},
   "outputs": [
    {
     "name": "stderr",
     "output_type": "stream",
     "text": [
      "C:\\Users\\emirh\\AppData\\Local\\Temp\\ipykernel_1656\\1744381811.py:1: SettingWithCopyWarning: \n",
      "A value is trying to be set on a copy of a slice from a DataFrame\n",
      "\n",
      "See the caveats in the documentation: https://pandas.pydata.org/pandas-docs/stable/user_guide/indexing.html#returning-a-view-versus-a-copy\n",
      "  tk_cluster['CLUSTER_LABELS_3'].replace({0:'T-Diamond',1:'outlier customers',2:'T-Bronze'},inplace=True)\n"
     ]
    }
   ],
   "source": [
    "tk_cluster['CLUSTER_LABELS_3'].replace({0:'T-Diamond',1:'outlier customers',2:'T-Bronze'},inplace=True)"
   ]
  },
  {
   "cell_type": "code",
   "execution_count": 90,
   "metadata": {},
   "outputs": [],
   "source": [
    "tk_cluster = tk_cluster.groupby(['CLUSTER_LABELS_3']).mean().reset_index()"
   ]
  },
  {
   "cell_type": "code",
   "execution_count": 91,
   "metadata": {},
   "outputs": [],
   "source": [
    "tk_cluster.rename(columns={'CLUSTER_LABELS_3':'Segment','TK_ORAN':'Limit-Risk Ratio', 'KESIDECI_COUNT':'Number of Drawers',\n",
    "            'TK_GECIKMEBAKIYE':'Account Latency Amount','TK_GECIKMEHESAP':'Number of Latency Accounts',\n",
    "            'CEK_GELIR_PERCENTAGE':'Check Income (%)'},inplace=True)"
   ]
  },
  {
   "cell_type": "code",
   "execution_count": 93,
   "metadata": {},
   "outputs": [],
   "source": [
    "#tk_cluster.to_feather('streamlit_view/tk_cluster.feather')"
   ]
  },
  {
   "cell_type": "code",
   "execution_count": 104,
   "metadata": {},
   "outputs": [],
   "source": [
    "c = pd.read_feather('streamlit_view/bk_tk_concat_cluster_result.feather')"
   ]
  },
  {
   "cell_type": "code",
   "execution_count": 109,
   "metadata": {},
   "outputs": [
    {
     "data": {
      "text/html": [
       "<div>\n",
       "<style scoped>\n",
       "    .dataframe tbody tr th:only-of-type {\n",
       "        vertical-align: middle;\n",
       "    }\n",
       "\n",
       "    .dataframe tbody tr th {\n",
       "        vertical-align: top;\n",
       "    }\n",
       "\n",
       "    .dataframe thead th {\n",
       "        text-align: right;\n",
       "    }\n",
       "</style>\n",
       "<table border=\"1\" class=\"dataframe\">\n",
       "  <thead>\n",
       "    <tr style=\"text-align: right;\">\n",
       "      <th></th>\n",
       "      <th>Segment</th>\n",
       "      <th>Limit-Risk Ratio</th>\n",
       "    </tr>\n",
       "  </thead>\n",
       "  <tbody>\n",
       "    <tr>\n",
       "      <th>1</th>\n",
       "      <td>T-Diamond</td>\n",
       "      <td>77684.839042</td>\n",
       "    </tr>\n",
       "    <tr>\n",
       "      <th>5</th>\n",
       "      <td>G-Gold</td>\n",
       "      <td>1289.983955</td>\n",
       "    </tr>\n",
       "    <tr>\n",
       "      <th>0</th>\n",
       "      <td>T-Bronze</td>\n",
       "      <td>63.455576</td>\n",
       "    </tr>\n",
       "    <tr>\n",
       "      <th>4</th>\n",
       "      <td>G-Diamond</td>\n",
       "      <td>6.613556</td>\n",
       "    </tr>\n",
       "    <tr>\n",
       "      <th>2</th>\n",
       "      <td>outlier customers</td>\n",
       "      <td>1.441890</td>\n",
       "    </tr>\n",
       "    <tr>\n",
       "      <th>3</th>\n",
       "      <td>G-Bronze</td>\n",
       "      <td>1.341041</td>\n",
       "    </tr>\n",
       "  </tbody>\n",
       "</table>\n",
       "</div>"
      ],
      "text/plain": [
       "             Segment  Limit-Risk Ratio\n",
       "1          T-Diamond      77684.839042\n",
       "5             G-Gold       1289.983955\n",
       "0           T-Bronze         63.455576\n",
       "4          G-Diamond          6.613556\n",
       "2  outlier customers          1.441890\n",
       "3           G-Bronze          1.341041"
      ]
     },
     "execution_count": 109,
     "metadata": {},
     "output_type": "execute_result"
    }
   ],
   "source": [
    "c[['Segment','Limit-Risk Ratio']].sort_values(by='Limit-Risk Ratio',ascending=False)"
   ]
  },
  {
   "attachments": {},
   "cell_type": "markdown",
   "metadata": {},
   "source": [
    "##### Distribution of TK Segment Customers"
   ]
  },
  {
   "cell_type": "code",
   "execution_count": 34,
   "metadata": {},
   "outputs": [],
   "source": [
    "tk_cluster_distribution = tk_data[['MUSTERI_ID','CLUSTER_LABELS_3']]"
   ]
  },
  {
   "cell_type": "code",
   "execution_count": 35,
   "metadata": {},
   "outputs": [],
   "source": [
    "# delete duplicate MUSTERI_ID\n",
    "tk_cluster_distribution = tk_cluster_distribution.drop_duplicates(subset='MUSTERI_ID',keep='first')"
   ]
  },
  {
   "cell_type": "code",
   "execution_count": 36,
   "metadata": {},
   "outputs": [
    {
     "data": {
      "text/html": [
       "<div>\n",
       "<style scoped>\n",
       "    .dataframe tbody tr th:only-of-type {\n",
       "        vertical-align: middle;\n",
       "    }\n",
       "\n",
       "    .dataframe tbody tr th {\n",
       "        vertical-align: top;\n",
       "    }\n",
       "\n",
       "    .dataframe thead th {\n",
       "        text-align: right;\n",
       "    }\n",
       "</style>\n",
       "<table border=\"1\" class=\"dataframe\">\n",
       "  <thead>\n",
       "    <tr style=\"text-align: right;\">\n",
       "      <th></th>\n",
       "      <th>MUSTERI_ID</th>\n",
       "      <th>CLUSTER_LABELS_3</th>\n",
       "    </tr>\n",
       "  </thead>\n",
       "  <tbody>\n",
       "    <tr>\n",
       "      <th>0</th>\n",
       "      <td>11820145</td>\n",
       "      <td>0</td>\n",
       "    </tr>\n",
       "    <tr>\n",
       "      <th>32</th>\n",
       "      <td>11672216</td>\n",
       "      <td>0</td>\n",
       "    </tr>\n",
       "    <tr>\n",
       "      <th>72</th>\n",
       "      <td>11827634</td>\n",
       "      <td>0</td>\n",
       "    </tr>\n",
       "    <tr>\n",
       "      <th>103</th>\n",
       "      <td>11882014</td>\n",
       "      <td>0</td>\n",
       "    </tr>\n",
       "    <tr>\n",
       "      <th>106</th>\n",
       "      <td>12042825</td>\n",
       "      <td>0</td>\n",
       "    </tr>\n",
       "    <tr>\n",
       "      <th>...</th>\n",
       "      <td>...</td>\n",
       "      <td>...</td>\n",
       "    </tr>\n",
       "    <tr>\n",
       "      <th>252329</th>\n",
       "      <td>11774058</td>\n",
       "      <td>0</td>\n",
       "    </tr>\n",
       "    <tr>\n",
       "      <th>252330</th>\n",
       "      <td>11635282</td>\n",
       "      <td>0</td>\n",
       "    </tr>\n",
       "    <tr>\n",
       "      <th>252332</th>\n",
       "      <td>11908637</td>\n",
       "      <td>0</td>\n",
       "    </tr>\n",
       "    <tr>\n",
       "      <th>252333</th>\n",
       "      <td>11908757</td>\n",
       "      <td>0</td>\n",
       "    </tr>\n",
       "    <tr>\n",
       "      <th>252334</th>\n",
       "      <td>764</td>\n",
       "      <td>0</td>\n",
       "    </tr>\n",
       "  </tbody>\n",
       "</table>\n",
       "<p>28881 rows × 2 columns</p>\n",
       "</div>"
      ],
      "text/plain": [
       "        MUSTERI_ID  CLUSTER_LABELS_3\n",
       "0         11820145                 0\n",
       "32        11672216                 0\n",
       "72        11827634                 0\n",
       "103       11882014                 0\n",
       "106       12042825                 0\n",
       "...            ...               ...\n",
       "252329    11774058                 0\n",
       "252330    11635282                 0\n",
       "252332    11908637                 0\n",
       "252333    11908757                 0\n",
       "252334         764                 0\n",
       "\n",
       "[28881 rows x 2 columns]"
      ]
     },
     "execution_count": 36,
     "metadata": {},
     "output_type": "execute_result"
    }
   ],
   "source": [
    "tk_cluster_distribution"
   ]
  },
  {
   "cell_type": "code",
   "execution_count": 37,
   "metadata": {},
   "outputs": [],
   "source": [
    "tk_cluster_distribution = tk_cluster_distribution['CLUSTER_LABELS_3'].value_counts()\n",
    "tk_cluster_distribution = tk_cluster_distribution.reset_index()"
   ]
  },
  {
   "cell_type": "code",
   "execution_count": 40,
   "metadata": {},
   "outputs": [
    {
     "data": {
      "text/html": [
       "<div>\n",
       "<style scoped>\n",
       "    .dataframe tbody tr th:only-of-type {\n",
       "        vertical-align: middle;\n",
       "    }\n",
       "\n",
       "    .dataframe tbody tr th {\n",
       "        vertical-align: top;\n",
       "    }\n",
       "\n",
       "    .dataframe thead th {\n",
       "        text-align: right;\n",
       "    }\n",
       "</style>\n",
       "<table border=\"1\" class=\"dataframe\">\n",
       "  <thead>\n",
       "    <tr style=\"text-align: right;\">\n",
       "      <th></th>\n",
       "      <th>Segment</th>\n",
       "      <th>Count</th>\n",
       "    </tr>\n",
       "  </thead>\n",
       "  <tbody>\n",
       "    <tr>\n",
       "      <th>0</th>\n",
       "      <td>0</td>\n",
       "      <td>28723</td>\n",
       "    </tr>\n",
       "    <tr>\n",
       "      <th>1</th>\n",
       "      <td>2</td>\n",
       "      <td>155</td>\n",
       "    </tr>\n",
       "    <tr>\n",
       "      <th>2</th>\n",
       "      <td>1</td>\n",
       "      <td>3</td>\n",
       "    </tr>\n",
       "  </tbody>\n",
       "</table>\n",
       "</div>"
      ],
      "text/plain": [
       "   Segment  Count\n",
       "0        0  28723\n",
       "1        2    155\n",
       "2        1      3"
      ]
     },
     "execution_count": 40,
     "metadata": {},
     "output_type": "execute_result"
    }
   ],
   "source": [
    "tk_cluster_distribution"
   ]
  },
  {
   "cell_type": "code",
   "execution_count": 41,
   "metadata": {},
   "outputs": [],
   "source": [
    "tk_cluster_distribution = tk_cluster_distribution.rename(columns={'index':'Segment','CLUSTER_LABELS_3':'Count'})\n",
    "tk_cluster_distribution['Segment'].replace({0:'T-Diamond',1:'outlier customers',2:'T-Bronze'},inplace=True)"
   ]
  },
  {
   "cell_type": "code",
   "execution_count": 42,
   "metadata": {},
   "outputs": [
    {
     "data": {
      "text/html": [
       "<div>\n",
       "<style scoped>\n",
       "    .dataframe tbody tr th:only-of-type {\n",
       "        vertical-align: middle;\n",
       "    }\n",
       "\n",
       "    .dataframe tbody tr th {\n",
       "        vertical-align: top;\n",
       "    }\n",
       "\n",
       "    .dataframe thead th {\n",
       "        text-align: right;\n",
       "    }\n",
       "</style>\n",
       "<table border=\"1\" class=\"dataframe\">\n",
       "  <thead>\n",
       "    <tr style=\"text-align: right;\">\n",
       "      <th></th>\n",
       "      <th>Segment</th>\n",
       "      <th>Count</th>\n",
       "    </tr>\n",
       "  </thead>\n",
       "  <tbody>\n",
       "    <tr>\n",
       "      <th>0</th>\n",
       "      <td>T-Diamond</td>\n",
       "      <td>28723</td>\n",
       "    </tr>\n",
       "    <tr>\n",
       "      <th>1</th>\n",
       "      <td>T-Bronze</td>\n",
       "      <td>155</td>\n",
       "    </tr>\n",
       "    <tr>\n",
       "      <th>2</th>\n",
       "      <td>outlier customers</td>\n",
       "      <td>3</td>\n",
       "    </tr>\n",
       "  </tbody>\n",
       "</table>\n",
       "</div>"
      ],
      "text/plain": [
       "             Segment  Count\n",
       "0          T-Diamond  28723\n",
       "1           T-Bronze    155\n",
       "2  outlier customers      3"
      ]
     },
     "execution_count": 42,
     "metadata": {},
     "output_type": "execute_result"
    }
   ],
   "source": [
    "tk_cluster_distribution"
   ]
  },
  {
   "cell_type": "code",
   "execution_count": 43,
   "metadata": {},
   "outputs": [],
   "source": [
    "tk_cluster_distribution.to_feather('streamlit_view/tk_cluster_distribution')"
   ]
  },
  {
   "attachments": {},
   "cell_type": "markdown",
   "metadata": {},
   "source": [
    "##### Distribution over Scatter Map"
   ]
  },
  {
   "cell_type": "code",
   "execution_count": 58,
   "metadata": {},
   "outputs": [
    {
     "data": {
      "text/plain": [
       "Index(['MUSTERI_ID', 'ID', 'CEK_NO', 'CEK_TUTAR', 'SIRKET_TURU', 'KULLANDIRIM',\n",
       "       'SUBE', 'KESIDECI_ID', 'ISLEM_TARIHI', 'TK_NAKDILIMIT', 'TK_NAKDIRISK',\n",
       "       'TK_GAYRINAKDILIMIT', 'TK_GAYRINAKDIRISK', 'TK_GECIKMEHESAP',\n",
       "       'TK_GECIKMEBAKIYE', 'TK_KURUMSAYISI', 'MUSTERI_RISK_SEVIYESI',\n",
       "       'TOTAL_RISK', 'TOTAL_LIMIT', 'TK_ORAN', 'KESIDECI_COUNT', 'CEK_INCOME',\n",
       "       'CEK_LOSS', 'CEK_GELIR_PERCENTAGE', 'AVERAGE_DAYS', 'TRANSACTIONS_FREQ',\n",
       "       'One Timer', 'Very Often', 'Often', 'Rare', 'CLUSTER_LABELS_4',\n",
       "       'CLUSTER_LABELS_3'],\n",
       "      dtype='object')"
      ]
     },
     "execution_count": 58,
     "metadata": {},
     "output_type": "execute_result"
    }
   ],
   "source": [
    "tk_data.columns"
   ]
  },
  {
   "cell_type": "code",
   "execution_count": 59,
   "metadata": {},
   "outputs": [],
   "source": [
    "tk_cluster_map = tk_data[['MUSTERI_ID','CLUSTER_LABELS_3','TOTAL_LIMIT','TOTAL_RISK']]"
   ]
  },
  {
   "cell_type": "code",
   "execution_count": 60,
   "metadata": {},
   "outputs": [],
   "source": [
    "tk_cluster_map = tk_cluster_map.drop_duplicates(subset='MUSTERI_ID',keep='first')\n",
    "tk_cluster_map = tk_cluster_map.reset_index()\n",
    "del tk_cluster_map['index']"
   ]
  },
  {
   "cell_type": "code",
   "execution_count": 66,
   "metadata": {},
   "outputs": [],
   "source": [
    "# rename values of CLUSTER_LABELS_3 column\n",
    "tk_cluster_map['CLUSTER_LABELS_3'].replace({0:'T-Diamond',2:'T-Bronze',1:'outlier customers'},inplace=True)"
   ]
  },
  {
   "cell_type": "code",
   "execution_count": 68,
   "metadata": {},
   "outputs": [],
   "source": [
    "#tk_cluster_map.to_feather('streamlit_view/tk_cluster_map.feather')"
   ]
  },
  {
   "attachments": {},
   "cell_type": "markdown",
   "metadata": {},
   "source": [
    "##### Compare BK segments with TK as Concatenated"
   ]
  },
  {
   "cell_type": "code",
   "execution_count": 94,
   "metadata": {},
   "outputs": [],
   "source": [
    "tk_cluster = pd.read_feather('streamlit_view/tk_cluster.feather')\n",
    "bk_cluster = pd.read_feather('streamlit_view/bk_cluster.feather')"
   ]
  },
  {
   "cell_type": "code",
   "execution_count": 97,
   "metadata": {},
   "outputs": [],
   "source": [
    "tk_cluster = tk_cluster[['Segment','Limit-Risk Ratio','Number of Drawers','Number of Latency Accounts',\n",
    "    'One Timer', 'Very Often','Often', 'Rare']]\n",
    "bk_cluster = bk_cluster[['Segment','Limit-Risk Ratio','Number of Drawers','Number of Latency Accounts',\n",
    "    'One Timer', 'Very Often','Often', 'Rare']]\n",
    "\n",
    "# concat these two\n",
    "cluster = pd.concat([tk_cluster,bk_cluster],axis=0)"
   ]
  },
  {
   "cell_type": "code",
   "execution_count": 101,
   "metadata": {},
   "outputs": [],
   "source": [
    "cluster = cluster.reset_index()"
   ]
  },
  {
   "cell_type": "code",
   "execution_count": 102,
   "metadata": {},
   "outputs": [],
   "source": [
    "#cluster.to_feather('streamlit_view/bk_tk_concat_cluster_result.feather')"
   ]
  }
 ],
 "metadata": {
  "kernelspec": {
   "display_name": "Python 3",
   "language": "python",
   "name": "python3"
  },
  "language_info": {
   "codemirror_mode": {
    "name": "ipython",
    "version": 3
   },
   "file_extension": ".py",
   "mimetype": "text/x-python",
   "name": "python",
   "nbconvert_exporter": "python",
   "pygments_lexer": "ipython3",
   "version": "3.11.3"
  },
  "orig_nbformat": 4
 },
 "nbformat": 4,
 "nbformat_minor": 2
}
