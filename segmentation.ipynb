{
 "cells": [
  {
   "attachments": {},
   "cell_type": "markdown",
   "metadata": {},
   "source": [
    "## CUSTOMER SEGMENTATION"
   ]
  },
  {
   "attachments": {},
   "cell_type": "markdown",
   "metadata": {},
   "source": [
    "Firstly, declaring necessary libraries"
   ]
  },
  {
   "cell_type": "code",
   "execution_count": 1,
   "metadata": {},
   "outputs": [],
   "source": [
    "# for data analysis\n",
    "import pandas as pd\n",
    "import numpy as np\n",
    "\n",
    "import json     # for reading the key inside the json formatted file\n",
    "\n",
    "# for data visualization\n",
    "import matplotlib.pyplot as plt\n",
    "\n",
    "import pyodbc   # for connecting database"
   ]
  },
  {
   "attachments": {},
   "cell_type": "markdown",
   "metadata": {},
   "source": [
    "> Connecting to Database\n",
    "\n",
    "Pyodbc library handles the connection between Jupyter notebook and MS SQL Server. SQL Server's key is hidden inside the json file."
   ]
  },
  {
   "cell_type": "code",
   "execution_count": 2,
   "metadata": {},
   "outputs": [],
   "source": [
    "f = open('log.json')\n",
    "sql_key = json.load(f)     # returns JSON object as a dictionary\n",
    "\n",
    "cnxn = pyodbc.connect(sql_key['key'])     # establish a connection\n",
    "crsr = cnxn.cursor()                      # cursor enables to send command"
   ]
  },
  {
   "attachments": {},
   "cell_type": "markdown",
   "metadata": {},
   "source": [
    "> Sending Queries \n",
    "\n",
    "Queries are sent with respect to the decisions given on analytics phase. G and T type company data are retrieved separately."
   ]
  },
  {
   "attachments": {},
   "cell_type": "markdown",
   "metadata": {},
   "source": [
    ">> For G (Şahıs)"
   ]
  },
  {
   "cell_type": "code",
   "execution_count": 3,
   "metadata": {},
   "outputs": [
    {
     "name": "stderr",
     "output_type": "stream",
     "text": [
      "C:\\Users\\emirh\\AppData\\Local\\Temp\\ipykernel_15404\\1577447570.py:6: UserWarning: pandas only supports SQLAlchemy connectable (engine/connection) or database string URI or sqlite3 DBAPI2 connection. Other DBAPI2 objects are not tested. Please consider using SQLAlchemy.\n",
      "  g_company_type_df = pd.read_sql(gk_query, cnxn)\n"
     ]
    }
   ],
   "source": [
    "gk_query= \"\"\"SELECT MUSTERI_ID, ID, CEK_NO, CEK_TUTAR, VADE_GUN, BK_LIMIT, BK_RISK,\n",
    "            BK_GECIKMEHESAP, BK_GECIKMEBAKIYE\n",
    "            FROM dbo.dataset\n",
    "            WHERE SIRKET_TURU LIKE 'G' \"\"\"\n",
    "\n",
    "g_company_type_df = pd.read_sql(gk_query, cnxn)"
   ]
  },
  {
   "cell_type": "code",
   "execution_count": 27,
   "metadata": {},
   "outputs": [
    {
     "data": {
      "text/html": [
       "<div>\n",
       "<style scoped>\n",
       "    .dataframe tbody tr th:only-of-type {\n",
       "        vertical-align: middle;\n",
       "    }\n",
       "\n",
       "    .dataframe tbody tr th {\n",
       "        vertical-align: top;\n",
       "    }\n",
       "\n",
       "    .dataframe thead th {\n",
       "        text-align: right;\n",
       "    }\n",
       "</style>\n",
       "<table border=\"1\" class=\"dataframe\">\n",
       "  <thead>\n",
       "    <tr style=\"text-align: right;\">\n",
       "      <th></th>\n",
       "      <th>MUSTERI_ID</th>\n",
       "      <th>ID</th>\n",
       "      <th>CEK_NO</th>\n",
       "      <th>CEK_TUTAR</th>\n",
       "      <th>VADE_GUN</th>\n",
       "      <th>BK_LIMIT</th>\n",
       "      <th>BK_RISK</th>\n",
       "      <th>BK_GECIKMEHESAP</th>\n",
       "      <th>BK_GECIKMEBAKIYE</th>\n",
       "    </tr>\n",
       "  </thead>\n",
       "  <tbody>\n",
       "    <tr>\n",
       "      <th>0</th>\n",
       "      <td>11800527</td>\n",
       "      <td>2457932</td>\n",
       "      <td>70331933</td>\n",
       "      <td>20000</td>\n",
       "      <td>100</td>\n",
       "      <td>0</td>\n",
       "      <td>0</td>\n",
       "      <td>0</td>\n",
       "      <td>0</td>\n",
       "    </tr>\n",
       "    <tr>\n",
       "      <th>1</th>\n",
       "      <td>12024009</td>\n",
       "      <td>2457933</td>\n",
       "      <td>3014103</td>\n",
       "      <td>25000</td>\n",
       "      <td>126</td>\n",
       "      <td>2213</td>\n",
       "      <td>226</td>\n",
       "      <td>2</td>\n",
       "      <td>1012</td>\n",
       "    </tr>\n",
       "    <tr>\n",
       "      <th>2</th>\n",
       "      <td>11800527</td>\n",
       "      <td>2457934</td>\n",
       "      <td>7031933</td>\n",
       "      <td>20000</td>\n",
       "      <td>100</td>\n",
       "      <td>0</td>\n",
       "      <td>0</td>\n",
       "      <td>0</td>\n",
       "      <td>0</td>\n",
       "    </tr>\n",
       "    <tr>\n",
       "      <th>3</th>\n",
       "      <td>11724283</td>\n",
       "      <td>2457936</td>\n",
       "      <td>7198012</td>\n",
       "      <td>23000</td>\n",
       "      <td>151</td>\n",
       "      <td>52100</td>\n",
       "      <td>9481</td>\n",
       "      <td>3</td>\n",
       "      <td>3575</td>\n",
       "    </tr>\n",
       "    <tr>\n",
       "      <th>4</th>\n",
       "      <td>11879266</td>\n",
       "      <td>2457937</td>\n",
       "      <td>9090937</td>\n",
       "      <td>10000</td>\n",
       "      <td>151</td>\n",
       "      <td>280101</td>\n",
       "      <td>211301</td>\n",
       "      <td>3</td>\n",
       "      <td>4128</td>\n",
       "    </tr>\n",
       "    <tr>\n",
       "      <th>5</th>\n",
       "      <td>11879266</td>\n",
       "      <td>2457938</td>\n",
       "      <td>9090936</td>\n",
       "      <td>13458</td>\n",
       "      <td>121</td>\n",
       "      <td>280101</td>\n",
       "      <td>211301</td>\n",
       "      <td>3</td>\n",
       "      <td>4128</td>\n",
       "    </tr>\n",
       "    <tr>\n",
       "      <th>6</th>\n",
       "      <td>11854083</td>\n",
       "      <td>2457939</td>\n",
       "      <td>4535918</td>\n",
       "      <td>5200</td>\n",
       "      <td>4</td>\n",
       "      <td>0</td>\n",
       "      <td>0</td>\n",
       "      <td>0</td>\n",
       "      <td>0</td>\n",
       "    </tr>\n",
       "    <tr>\n",
       "      <th>7</th>\n",
       "      <td>11654711</td>\n",
       "      <td>2457942</td>\n",
       "      <td>88624</td>\n",
       "      <td>110000</td>\n",
       "      <td>181</td>\n",
       "      <td>215261</td>\n",
       "      <td>150619</td>\n",
       "      <td>1</td>\n",
       "      <td>847</td>\n",
       "    </tr>\n",
       "    <tr>\n",
       "      <th>8</th>\n",
       "      <td>11723432</td>\n",
       "      <td>2457943</td>\n",
       "      <td>3331313</td>\n",
       "      <td>5300</td>\n",
       "      <td>121</td>\n",
       "      <td>104384</td>\n",
       "      <td>65599</td>\n",
       "      <td>3</td>\n",
       "      <td>2591</td>\n",
       "    </tr>\n",
       "    <tr>\n",
       "      <th>9</th>\n",
       "      <td>11577211</td>\n",
       "      <td>2457944</td>\n",
       "      <td>4602258</td>\n",
       "      <td>11000</td>\n",
       "      <td>187</td>\n",
       "      <td>215860</td>\n",
       "      <td>85589</td>\n",
       "      <td>4</td>\n",
       "      <td>6379</td>\n",
       "    </tr>\n",
       "  </tbody>\n",
       "</table>\n",
       "</div>"
      ],
      "text/plain": [
       "  MUSTERI_ID       ID    CEK_NO CEK_TUTAR VADE_GUN BK_LIMIT BK_RISK  \\\n",
       "0   11800527  2457932  70331933     20000      100        0       0   \n",
       "1   12024009  2457933   3014103     25000      126     2213     226   \n",
       "2   11800527  2457934   7031933     20000      100        0       0   \n",
       "3   11724283  2457936   7198012     23000      151    52100    9481   \n",
       "4   11879266  2457937   9090937     10000      151   280101  211301   \n",
       "5   11879266  2457938   9090936     13458      121   280101  211301   \n",
       "6   11854083  2457939   4535918      5200        4        0       0   \n",
       "7   11654711  2457942     88624    110000      181   215261  150619   \n",
       "8   11723432  2457943   3331313      5300      121   104384   65599   \n",
       "9   11577211  2457944   4602258     11000      187   215860   85589   \n",
       "\n",
       "  BK_GECIKMEHESAP BK_GECIKMEBAKIYE  \n",
       "0               0                0  \n",
       "1               2             1012  \n",
       "2               0                0  \n",
       "3               3             3575  \n",
       "4               3             4128  \n",
       "5               3             4128  \n",
       "6               0                0  \n",
       "7               1              847  \n",
       "8               3             2591  \n",
       "9               4             6379  "
      ]
     },
     "execution_count": 27,
     "metadata": {},
     "output_type": "execute_result"
    }
   ],
   "source": [
    "g_company_type_df.head(10)"
   ]
  },
  {
   "attachments": {},
   "cell_type": "markdown",
   "metadata": {},
   "source": [
    ">> For T (Tüzel)"
   ]
  },
  {
   "cell_type": "code",
   "execution_count": 31,
   "metadata": {},
   "outputs": [
    {
     "name": "stderr",
     "output_type": "stream",
     "text": [
      "C:\\Users\\emirh\\AppData\\Local\\Temp\\ipykernel_18068\\595317809.py:2: UserWarning: pandas only supports SQLAlchemy connectable (engine/connection) or database string URI or sqlite3 DBAPI2 connection. Other DBAPI2 objects are not tested. Please consider using SQLAlchemy.\n",
      "  t_company_type_df = pd.read_sql(tk_query, cnxn)\n"
     ]
    }
   ],
   "source": [
    "tk_query= \"\"\"SELECT MUSTERI_ID, ID, CEK_NO, CEK_TUTAR, VADE_GUN, TK_NAKDILIMIT, TK_NAKDIRISK, TK_GAYRINAKDILIMIT, TK_GAYRINAKDIRISK, TK_GECIKMEHESAP, TK_GECIKMEBAKIYE FROM dbo.dataset WHERE SIRKET_TURU LIKE 'T' \"\"\"\n",
    "t_company_type_df = pd.read_sql(tk_query, cnxn)"
   ]
  },
  {
   "attachments": {},
   "cell_type": "markdown",
   "metadata": {},
   "source": [
    "### MACHINE LEARNING"
   ]
  },
  {
   "attachments": {},
   "cell_type": "markdown",
   "metadata": {},
   "source": [
    "The ML is going to be implemented to segment customer portfolio into clusters based on their risks. Firstly, the customer portfolio divided into two groups: T type and G type customers. Due to the differences between their attributes, this was inevitable step to be done. Also, it is crucial to define type of machine learning. Due to the attributes, it will be unsupervised learning. As observed, all attributes will be used are features. For providing accurate solution, we obtained that classification of the customer portfolio is a must requirements. In this sense, **K-means** is going to implemented.\n",
    "\n",
    "Next, the datasets will be prepared for the clustering. There is a need of deriving new attributes by using existing ones. Thus, the feature extraction must be done before putting data into model. In addition to this, data scaling is another significant task to complete. According to Dong, Zhang, and Chen (2020), *data scaling is a technique used in machine learning to adjust the range of features in a dataset, typically to a common scale between zero and one or -1 and 1.* The purpose of data scaling is to standardize the data, mitigate the impact of outliers, and ensure that all features are treated equally during model training. As stated in the paper, we are looking forward to handle large range of magnitudes with this method.\n",
    "\n",
    "Also, data will be divided into two as training and test for ML. Sarkar and Bali (2020) stated that training dataset is used to teach the algorithm to recognize patterns in the data, while the testing dataset is used to evaluate the algorithm's ability to generalize to new data. We are going to determine whether the model is good fit or not by using test dataset. It is a common fact that overfitting or underfitting models my occur during ML researches.\n",
    "\n",
    "Moreover, the optimal number of clusters are going to be obtained by using Elbow Method from the data. The elbow method is a critical technique for selecting the optimal number of clusters in k-means clustering, as it provides an objective way to determine the appropriate number of clusters and helps to prevent overfitting and improve the interpretability of the resulting clusters (Tang & Zhang, 2019). After this, we are going to train the model with the train dataset.\n",
    "\n",
    "After these steps, the accuracy of K-means model must be found out. Also, other appropriate unsupervised ML modelling techniques are going to be compared. The most fitting model's results are going to be saved into the database. The database is going to be integrated our data-oriented web application for strong Business Intelligence presentation.\n",
    "\n",
    "To conclude, our steps are;\n",
    "\n",
    "*   Feature Extraction\n",
    "*   Scaling Data\n",
    "*   Training/Test Set Division\n",
    "*   Elbow Method\n",
    "*   Accuracy Calculation\n",
    "*   Comparing K-means with Other Models\n",
    "*   Saving Results into Database\n",
    "*   Presenting Results via Streamlit Web-App"
   ]
  },
  {
   "attachments": {},
   "cell_type": "markdown",
   "metadata": {},
   "source": [
    "> Handle Data Types\n",
    "\n",
    "For G type Customers first"
   ]
  },
  {
   "attachments": {},
   "cell_type": "markdown",
   "metadata": {},
   "source": [
    "Firstly, we have to assign data types before ML operations"
   ]
  },
  {
   "cell_type": "code",
   "execution_count": 28,
   "metadata": {},
   "outputs": [
    {
     "name": "stdout",
     "output_type": "stream",
     "text": [
      "<class 'pandas.core.frame.DataFrame'>\n",
      "RangeIndex: 229538 entries, 0 to 229537\n",
      "Data columns (total 9 columns):\n",
      " #   Column            Non-Null Count   Dtype \n",
      "---  ------            --------------   ----- \n",
      " 0   MUSTERI_ID        229538 non-null  object\n",
      " 1   ID                229538 non-null  int64 \n",
      " 2   CEK_NO            229538 non-null  object\n",
      " 3   CEK_TUTAR         229538 non-null  object\n",
      " 4   VADE_GUN          229538 non-null  object\n",
      " 5   BK_LIMIT          229538 non-null  object\n",
      " 6   BK_RISK           229538 non-null  object\n",
      " 7   BK_GECIKMEHESAP   229538 non-null  object\n",
      " 8   BK_GECIKMEBAKIYE  229538 non-null  object\n",
      "dtypes: int64(1), object(8)\n",
      "memory usage: 15.8+ MB\n"
     ]
    }
   ],
   "source": [
    "g_company_type_df.info()    # to see the data types and missing values"
   ]
  },
  {
   "cell_type": "code",
   "execution_count": 29,
   "metadata": {},
   "outputs": [
    {
     "name": "stderr",
     "output_type": "stream",
     "text": [
      "C:\\Users\\emirh\\AppData\\Local\\Temp\\ipykernel_9688\\1768993693.py:2: FutureWarning: The default value of regex will change from True to False in a future version.\n",
      "  g_company_type_df['MUSTERI_ID']=g_company_type_df['MUSTERI_ID'].str.replace(r'\\D', '').astype(int)\n"
     ]
    }
   ],
   "source": [
    "# there are several characters in the MUSTERI_ID column, so we need to remove them\n",
    "g_company_type_df['MUSTERI_ID']=g_company_type_df['MUSTERI_ID'].str.replace(r'\\D', '').astype(int)\n",
    "g_company_type_df['ID']=g_company_type_df['ID'].astype(int)\n",
    "\n",
    "# VADE_GUN represents the amount of day, so it is an integer\n",
    "g_company_type_df['VADE_GUN']=g_company_type_df['VADE_GUN'].astype(int)\n",
    "g_company_type_df['CEK_TUTAR']=g_company_type_df['CEK_TUTAR'].replace(',','.', regex=True).astype(float)\n",
    "\n",
    "# converting into float to use on ML model later\n",
    "g_company_type_df['BK_LIMIT']=g_company_type_df['BK_LIMIT'].astype(float)\n",
    "g_company_type_df['BK_RISK']=g_company_type_df['BK_RISK'].astype(float)\n",
    "g_company_type_df['BK_GECIKMEHESAP']=g_company_type_df['BK_GECIKMEHESAP'].astype(float)\n",
    "g_company_type_df['BK_GECIKMEBAKIYE']=g_company_type_df['BK_GECIKMEBAKIYE'].astype(float)"
   ]
  },
  {
   "attachments": {},
   "cell_type": "markdown",
   "metadata": {},
   "source": [
    "*CEK_NO* has several improper values, so we need to handle errors and convert it into integer"
   ]
  },
  {
   "cell_type": "code",
   "execution_count": null,
   "metadata": {},
   "outputs": [],
   "source": [
    "# used these queries to spot the non-integer values\n",
    "\"\"\"SELECT [CEK_NO]\n",
    "FROM [faktoring_db].[dbo].[dataset]\n",
    "WHERE CEK_NO like '%[^a-Z0-9]%'\n",
    "\n",
    "SELECT CEK_NO, COUNT(*) as count\n",
    "FROM [faktoring_db].[dbo].[dataset]\n",
    "WHERE CEK_NO like '%[^a-Z0-9]%'\n",
    "GROUP BY CEK_NO\n",
    "HAVING COUNT(*) > 0\n",
    "\n",
    "//OR USE THIS, MORE EFFICIENT RESULTS\n",
    "\n",
    "SELECT [ID],[CEK_NO]\n",
    "FROM [faktoring_db].[dbo].[dataset]\n",
    "WHERE ISNUMERIC([CEK_NO]) <> 1;\"\"\""
   ]
  },
  {
   "attachments": {},
   "cell_type": "markdown",
   "metadata": {},
   "source": [
    "Solved the issue on MS SQL with the following script below:"
   ]
  },
  {
   "cell_type": "code",
   "execution_count": null,
   "metadata": {},
   "outputs": [],
   "source": [
    "#...and solved the issue by using the following queries\n",
    "\"\"\"\n",
    "UPDATE [faktoring_db].[dbo].[dataset]\n",
    "SET [CEK_NO] = 1\n",
    "WHERE [ID] = 2770334;\n",
    "\n",
    "UPDATE [faktoring_db].[dbo].[dataset]\n",
    "SET [CEK_NO] = 2\n",
    "WHERE [ID] = 2494076;\n",
    "\n",
    "UPDATE [faktoring_db].[dbo].[dataset]\n",
    "SET [CEK_NO] = 3\n",
    "WHERE [ID] = 2501347;\n",
    "\n",
    "UPDATE [faktoring_db].[dbo].[dataset]\n",
    "SET [CEK_NO] = 4\n",
    "WHERE [ID] = 2551433;\n",
    "\n",
    "UPDATE [faktoring_db].[dbo].[dataset]\n",
    "SET [CEK_NO] = 5\n",
    "WHERE [ID] = 2551434;\n",
    "\n",
    "UPDATE [faktoring_db].[dbo].[dataset]\n",
    "SET [CEK_NO] = 6\n",
    "WHERE [ID] = 2633345;\n",
    "\n",
    "UPDATE [faktoring_db].[dbo].[dataset]\n",
    "SET [CEK_NO] = 7\n",
    "WHERE [ID] = 2689531;\n",
    "\n",
    "UPDATE [faktoring_db].[dbo].[dataset]\n",
    "SET [CEK_NO] = 8\n",
    "WHERE [ID] = 2699745;\n",
    "\n",
    "UPDATE [faktoring_db].[dbo].[dataset]\n",
    "SET [CEK_NO] = 9\n",
    "WHERE [ID] = 2703751;\n",
    "\n",
    "UPDATE [faktoring_db].[dbo].[dataset]\n",
    "SET [CEK_NO] = 10\n",
    "WHERE [ID] = 2715934;\n",
    "\n",
    "UPDATE [faktoring_db].[dbo].[dataset]\n",
    "SET [CEK_NO] = 11\n",
    "WHERE [ID] = 2828009;\n",
    "\n",
    "UPDATE [faktoring_db].[dbo].[dataset]\n",
    "SET [CEK_NO] = 12\n",
    "WHERE [ID] = 2828010;\n",
    "\n",
    "UPDATE [faktoring_db].[dbo].[dataset]\n",
    "SET [CEK_NO] = 13\n",
    "WHERE [ID] = 2828011;\n",
    "\n",
    "UPDATE [faktoring_db].[dbo].[dataset]\n",
    "SET [CEK_NO] = 14\n",
    "WHERE [ID] = 2828012;\n",
    "\n",
    "UPDATE [faktoring_db].[dbo].[dataset]\n",
    "SET [CEK_NO] = 15\n",
    "WHERE [ID] = 2828013;\n",
    "\n",
    "UPDATE [faktoring_db].[dbo].[dataset]\n",
    "SET [CEK_NO] = 16\n",
    "WHERE [ID] = 2516070 OR\n",
    "\t[ID] = 2525905 OR\n",
    "\t[ID] = 2573048 OR\n",
    "\t[ID] = 2685207 OR\n",
    "\t[ID] = 2727249;\n",
    "\n",
    "UPDATE [faktoring_db].[dbo].[dataset]\n",
    "SET [CEK_NO] = 17\n",
    "WHERE [ID] = 2741161;\n",
    "\n",
    "UPDATE [faktoring_db].[dbo].[dataset]\n",
    "SET [CEK_NO] = 18\n",
    "WHERE [ID] = 2766289;\n",
    "\n",
    "UPDATE [faktoring_db].[dbo].[dataset]\n",
    "SET [CEK_NO] = 19\n",
    "WHERE [ID] = 2809942;\n",
    "\n",
    "UPDATE [faktoring_db].[dbo].[dataset]\n",
    "SET [CEK_NO] = 20\n",
    "WHERE [ID] = 2815551;\n",
    "\n",
    "UPDATE [faktoring_db].[dbo].[dataset]\n",
    "SET [CEK_NO] = 21\n",
    "WHERE [ID] = 2850473;\n",
    "UPDATE [faktoring_db].[dbo].[dataset]\n",
    "SET [CEK_NO] = 22\n",
    "WHERE [ID] = 2911050;\n",
    "UPDATE [faktoring_db].[dbo].[dataset]\n",
    "SET [CEK_NO] = 23\n",
    "WHERE [ID] = 2912888;\n",
    "UPDATE [faktoring_db].[dbo].[dataset]\n",
    "SET [CEK_NO] = 24\n",
    "WHERE [ID] = 2912889;\n",
    "UPDATE [faktoring_db].[dbo].[dataset]\n",
    "SET [CEK_NO] = 25\n",
    "WHERE [ID] = 2922915;\n",
    "UPDATE [faktoring_db].[dbo].[dataset]\n",
    "SET [CEK_NO] = 26\n",
    "WHERE [ID] = 2922916;\n",
    "UPDATE [faktoring_db].[dbo].[dataset]\n",
    "SET [CEK_NO] = 27\n",
    "WHERE [ID] = 2923795;\n",
    "UPDATE [faktoring_db].[dbo].[dataset]\n",
    "SET [CEK_NO] = 28\n",
    "WHERE [ID] = 2703536;\n",
    "UPDATE [faktoring_db].[dbo].[dataset]\n",
    "SET [CEK_NO] = 29\n",
    "WHERE [ID] = 2740283;\n",
    "UPDATE [faktoring_db].[dbo].[dataset]\n",
    "SET [CEK_NO] = 30\n",
    "WHERE [ID] = 2622979;\n",
    "UPDATE [faktoring_db].[dbo].[dataset]\n",
    "SET [CEK_NO] = 31\n",
    "WHERE [ID] = 2740284;\n",
    "UPDATE [faktoring_db].[dbo].[dataset]\n",
    "SET [CEK_NO] = 32\n",
    "WHERE [ID] = 2740285;\n",
    "UPDATE [faktoring_db].[dbo].[dataset]\n",
    "SET [CEK_NO] = 33\n",
    "WHERE [ID] = 2740286;\n",
    "UPDATE [faktoring_db].[dbo].[dataset]\n",
    "SET [CEK_NO] = 34\n",
    "WHERE [ID] = 2740287;\n",
    "UPDATE [faktoring_db].[dbo].[dataset]\n",
    "SET [CEK_NO] = 35\n",
    "WHERE [ID] = 2740288;\n",
    "UPDATE [faktoring_db].[dbo].[dataset]\n",
    "SET [CEK_NO] = 36\n",
    "WHERE [ID] = 2740289;\n",
    "UPDATE [faktoring_db].[dbo].[dataset]\n",
    "SET [CEK_NO] = 37\n",
    "WHERE [ID] = 2740290;\n",
    "UPDATE [faktoring_db].[dbo].[dataset]\n",
    "SET [CEK_NO] = 38\n",
    "WHERE [ID] = 2780745;\n",
    "UPDATE [faktoring_db].[dbo].[dataset]\n",
    "SET [CEK_NO] = 39\n",
    "WHERE [ID] = 2782835;\n",
    "UPDATE [faktoring_db].[dbo].[dataset]\n",
    "SET [CEK_NO] = 40\n",
    "WHERE [ID] = 2782836;\n",
    "UPDATE [faktoring_db].[dbo].[dataset]\n",
    "SET [CEK_NO] = 41\n",
    "WHERE [ID] = 2823409;\n",
    "UPDATE [faktoring_db].[dbo].[dataset]\n",
    "SET [CEK_NO] = 42\n",
    "WHERE [ID] = 2823497;\n",
    "\"\"\""
   ]
  },
  {
   "cell_type": "code",
   "execution_count": 30,
   "metadata": {},
   "outputs": [],
   "source": [
    "# finally, the script is executed successfully\n",
    "g_company_type_df['CEK_NO']=g_company_type_df['CEK_NO'].astype('int64')"
   ]
  },
  {
   "cell_type": "code",
   "execution_count": 8,
   "metadata": {},
   "outputs": [
    {
     "data": {
      "text/plain": [
       "True"
      ]
     },
     "execution_count": 8,
     "metadata": {},
     "output_type": "execute_result"
    }
   ],
   "source": [
    "# checking uniqueness of ID\n",
    "g_company_type_df['ID'].is_unique   # check if there is any duplicate in ID"
   ]
  },
  {
   "cell_type": "code",
   "execution_count": 31,
   "metadata": {},
   "outputs": [
    {
     "name": "stdout",
     "output_type": "stream",
     "text": [
      "<class 'pandas.core.frame.DataFrame'>\n",
      "RangeIndex: 229538 entries, 0 to 229537\n",
      "Data columns (total 9 columns):\n",
      " #   Column            Non-Null Count   Dtype  \n",
      "---  ------            --------------   -----  \n",
      " 0   MUSTERI_ID        229538 non-null  int32  \n",
      " 1   ID                229538 non-null  int32  \n",
      " 2   CEK_NO            229538 non-null  int64  \n",
      " 3   CEK_TUTAR         229538 non-null  float64\n",
      " 4   VADE_GUN          229538 non-null  int32  \n",
      " 5   BK_LIMIT          229538 non-null  float64\n",
      " 6   BK_RISK           229538 non-null  float64\n",
      " 7   BK_GECIKMEHESAP   229538 non-null  float64\n",
      " 8   BK_GECIKMEBAKIYE  229538 non-null  float64\n",
      "dtypes: float64(5), int32(3), int64(1)\n",
      "memory usage: 13.1 MB\n"
     ]
    }
   ],
   "source": [
    "g_company_type_df.info()    # to see the data types after the changes"
   ]
  },
  {
   "cell_type": "code",
   "execution_count": 32,
   "metadata": {},
   "outputs": [
    {
     "data": {
      "text/html": [
       "<div>\n",
       "<style scoped>\n",
       "    .dataframe tbody tr th:only-of-type {\n",
       "        vertical-align: middle;\n",
       "    }\n",
       "\n",
       "    .dataframe tbody tr th {\n",
       "        vertical-align: top;\n",
       "    }\n",
       "\n",
       "    .dataframe thead th {\n",
       "        text-align: right;\n",
       "    }\n",
       "</style>\n",
       "<table border=\"1\" class=\"dataframe\">\n",
       "  <thead>\n",
       "    <tr style=\"text-align: right;\">\n",
       "      <th></th>\n",
       "      <th>MUSTERI_ID</th>\n",
       "      <th>ID</th>\n",
       "      <th>CEK_NO</th>\n",
       "      <th>CEK_TUTAR</th>\n",
       "      <th>VADE_GUN</th>\n",
       "      <th>BK_LIMIT</th>\n",
       "      <th>BK_RISK</th>\n",
       "      <th>BK_GECIKMEHESAP</th>\n",
       "      <th>BK_GECIKMEBAKIYE</th>\n",
       "    </tr>\n",
       "  </thead>\n",
       "  <tbody>\n",
       "    <tr>\n",
       "      <th>count</th>\n",
       "      <td>2.295380e+05</td>\n",
       "      <td>2.295380e+05</td>\n",
       "      <td>2.295380e+05</td>\n",
       "      <td>2.295380e+05</td>\n",
       "      <td>229538.000000</td>\n",
       "      <td>2.295380e+05</td>\n",
       "      <td>2.295380e+05</td>\n",
       "      <td>229538.000000</td>\n",
       "      <td>2.295380e+05</td>\n",
       "    </tr>\n",
       "    <tr>\n",
       "      <th>mean</th>\n",
       "      <td>9.719453e+06</td>\n",
       "      <td>2.701168e+06</td>\n",
       "      <td>4.185936e+06</td>\n",
       "      <td>2.585948e+04</td>\n",
       "      <td>116.505102</td>\n",
       "      <td>6.996197e+04</td>\n",
       "      <td>4.827058e+04</td>\n",
       "      <td>1.928814</td>\n",
       "      <td>2.203242e+03</td>\n",
       "    </tr>\n",
       "    <tr>\n",
       "      <th>std</th>\n",
       "      <td>4.476067e+06</td>\n",
       "      <td>1.395355e+05</td>\n",
       "      <td>1.920893e+08</td>\n",
       "      <td>6.833846e+04</td>\n",
       "      <td>57.861793</td>\n",
       "      <td>1.092359e+05</td>\n",
       "      <td>8.388669e+04</td>\n",
       "      <td>2.176905</td>\n",
       "      <td>1.856836e+04</td>\n",
       "    </tr>\n",
       "    <tr>\n",
       "      <th>min</th>\n",
       "      <td>1.050000e+02</td>\n",
       "      <td>2.457932e+06</td>\n",
       "      <td>0.000000e+00</td>\n",
       "      <td>1.000000e+01</td>\n",
       "      <td>1.000000</td>\n",
       "      <td>0.000000e+00</td>\n",
       "      <td>0.000000e+00</td>\n",
       "      <td>0.000000</td>\n",
       "      <td>0.000000e+00</td>\n",
       "    </tr>\n",
       "    <tr>\n",
       "      <th>25%</th>\n",
       "      <td>1.157367e+07</td>\n",
       "      <td>2.580292e+06</td>\n",
       "      <td>1.259852e+05</td>\n",
       "      <td>1.000000e+04</td>\n",
       "      <td>76.000000</td>\n",
       "      <td>3.797000e+03</td>\n",
       "      <td>1.898000e+03</td>\n",
       "      <td>0.000000</td>\n",
       "      <td>0.000000e+00</td>\n",
       "    </tr>\n",
       "    <tr>\n",
       "      <th>50%</th>\n",
       "      <td>1.176176e+07</td>\n",
       "      <td>2.702264e+06</td>\n",
       "      <td>1.753388e+06</td>\n",
       "      <td>2.000000e+04</td>\n",
       "      <td>110.000000</td>\n",
       "      <td>2.965000e+04</td>\n",
       "      <td>1.599600e+04</td>\n",
       "      <td>1.000000</td>\n",
       "      <td>4.710000e+02</td>\n",
       "    </tr>\n",
       "    <tr>\n",
       "      <th>75%</th>\n",
       "      <td>1.190025e+07</td>\n",
       "      <td>2.822914e+06</td>\n",
       "      <td>5.370632e+06</td>\n",
       "      <td>3.000000e+04</td>\n",
       "      <td>150.000000</td>\n",
       "      <td>9.134800e+04</td>\n",
       "      <td>5.871825e+04</td>\n",
       "      <td>3.000000</td>\n",
       "      <td>2.381000e+03</td>\n",
       "    </tr>\n",
       "    <tr>\n",
       "      <th>max</th>\n",
       "      <td>1.205469e+07</td>\n",
       "      <td>2.939795e+06</td>\n",
       "      <td>3.930169e+10</td>\n",
       "      <td>3.001202e+07</td>\n",
       "      <td>793.000000</td>\n",
       "      <td>2.362133e+06</td>\n",
       "      <td>1.771233e+06</td>\n",
       "      <td>31.000000</td>\n",
       "      <td>2.384798e+06</td>\n",
       "    </tr>\n",
       "  </tbody>\n",
       "</table>\n",
       "</div>"
      ],
      "text/plain": [
       "         MUSTERI_ID            ID        CEK_NO     CEK_TUTAR       VADE_GUN  \\\n",
       "count  2.295380e+05  2.295380e+05  2.295380e+05  2.295380e+05  229538.000000   \n",
       "mean   9.719453e+06  2.701168e+06  4.185936e+06  2.585948e+04     116.505102   \n",
       "std    4.476067e+06  1.395355e+05  1.920893e+08  6.833846e+04      57.861793   \n",
       "min    1.050000e+02  2.457932e+06  0.000000e+00  1.000000e+01       1.000000   \n",
       "25%    1.157367e+07  2.580292e+06  1.259852e+05  1.000000e+04      76.000000   \n",
       "50%    1.176176e+07  2.702264e+06  1.753388e+06  2.000000e+04     110.000000   \n",
       "75%    1.190025e+07  2.822914e+06  5.370632e+06  3.000000e+04     150.000000   \n",
       "max    1.205469e+07  2.939795e+06  3.930169e+10  3.001202e+07     793.000000   \n",
       "\n",
       "           BK_LIMIT       BK_RISK  BK_GECIKMEHESAP  BK_GECIKMEBAKIYE  \n",
       "count  2.295380e+05  2.295380e+05    229538.000000      2.295380e+05  \n",
       "mean   6.996197e+04  4.827058e+04         1.928814      2.203242e+03  \n",
       "std    1.092359e+05  8.388669e+04         2.176905      1.856836e+04  \n",
       "min    0.000000e+00  0.000000e+00         0.000000      0.000000e+00  \n",
       "25%    3.797000e+03  1.898000e+03         0.000000      0.000000e+00  \n",
       "50%    2.965000e+04  1.599600e+04         1.000000      4.710000e+02  \n",
       "75%    9.134800e+04  5.871825e+04         3.000000      2.381000e+03  \n",
       "max    2.362133e+06  1.771233e+06        31.000000      2.384798e+06  "
      ]
     },
     "execution_count": 32,
     "metadata": {},
     "output_type": "execute_result"
    }
   ],
   "source": [
    "g_company_type_df.describe()    # to see the statistical summary of the data"
   ]
  },
  {
   "attachments": {},
   "cell_type": "markdown",
   "metadata": {},
   "source": [
    "> Feature Extraction"
   ]
  },
  {
   "attachments": {},
   "cell_type": "markdown",
   "metadata": {},
   "source": [
    "Firstly, exploring the attribute."
   ]
  },
  {
   "cell_type": "code",
   "execution_count": 40,
   "metadata": {},
   "outputs": [
    {
     "data": {
      "text/html": [
       "<div>\n",
       "<style scoped>\n",
       "    .dataframe tbody tr th:only-of-type {\n",
       "        vertical-align: middle;\n",
       "    }\n",
       "\n",
       "    .dataframe tbody tr th {\n",
       "        vertical-align: top;\n",
       "    }\n",
       "\n",
       "    .dataframe thead th {\n",
       "        text-align: right;\n",
       "    }\n",
       "</style>\n",
       "<table border=\"1\" class=\"dataframe\">\n",
       "  <thead>\n",
       "    <tr style=\"text-align: right;\">\n",
       "      <th></th>\n",
       "      <th>MUSTERI_ID</th>\n",
       "      <th>ID</th>\n",
       "      <th>CEK_NO</th>\n",
       "      <th>CEK_TUTAR</th>\n",
       "      <th>VADE_GUN</th>\n",
       "      <th>BK_LIMIT</th>\n",
       "      <th>BK_RISK</th>\n",
       "      <th>BK_GECIKMEHESAP</th>\n",
       "      <th>BK_GECIKMEBAKIYE</th>\n",
       "      <th>BK_ORAN</th>\n",
       "    </tr>\n",
       "  </thead>\n",
       "  <tbody>\n",
       "    <tr>\n",
       "      <th>12</th>\n",
       "      <td>11860577</td>\n",
       "      <td>2457952</td>\n",
       "      <td>1023231</td>\n",
       "      <td>12605.49</td>\n",
       "      <td>90</td>\n",
       "      <td>1000.0</td>\n",
       "      <td>0.0</td>\n",
       "      <td>0.0</td>\n",
       "      <td>0.0</td>\n",
       "      <td>10000.0</td>\n",
       "    </tr>\n",
       "    <tr>\n",
       "      <th>87</th>\n",
       "      <td>11884594</td>\n",
       "      <td>2458126</td>\n",
       "      <td>381633</td>\n",
       "      <td>15000.00</td>\n",
       "      <td>113</td>\n",
       "      <td>5200.0</td>\n",
       "      <td>0.0</td>\n",
       "      <td>1.0</td>\n",
       "      <td>296.0</td>\n",
       "      <td>52000.0</td>\n",
       "    </tr>\n",
       "    <tr>\n",
       "      <th>144</th>\n",
       "      <td>11793964</td>\n",
       "      <td>2458237</td>\n",
       "      <td>3167451</td>\n",
       "      <td>9500.00</td>\n",
       "      <td>120</td>\n",
       "      <td>750.0</td>\n",
       "      <td>0.0</td>\n",
       "      <td>0.0</td>\n",
       "      <td>0.0</td>\n",
       "      <td>7500.0</td>\n",
       "    </tr>\n",
       "    <tr>\n",
       "      <th>168</th>\n",
       "      <td>11593517</td>\n",
       "      <td>2458278</td>\n",
       "      <td>271555</td>\n",
       "      <td>50000.00</td>\n",
       "      <td>166</td>\n",
       "      <td>550.0</td>\n",
       "      <td>0.0</td>\n",
       "      <td>1.0</td>\n",
       "      <td>35.0</td>\n",
       "      <td>5500.0</td>\n",
       "    </tr>\n",
       "    <tr>\n",
       "      <th>177</th>\n",
       "      <td>11506837</td>\n",
       "      <td>2458290</td>\n",
       "      <td>8060375</td>\n",
       "      <td>23100.00</td>\n",
       "      <td>115</td>\n",
       "      <td>500.0</td>\n",
       "      <td>0.0</td>\n",
       "      <td>0.0</td>\n",
       "      <td>0.0</td>\n",
       "      <td>5000.0</td>\n",
       "    </tr>\n",
       "    <tr>\n",
       "      <th>...</th>\n",
       "      <td>...</td>\n",
       "      <td>...</td>\n",
       "      <td>...</td>\n",
       "      <td>...</td>\n",
       "      <td>...</td>\n",
       "      <td>...</td>\n",
       "      <td>...</td>\n",
       "      <td>...</td>\n",
       "      <td>...</td>\n",
       "      <td>...</td>\n",
       "    </tr>\n",
       "    <tr>\n",
       "      <th>229377</th>\n",
       "      <td>11620749</td>\n",
       "      <td>2939494</td>\n",
       "      <td>1614282</td>\n",
       "      <td>30000.00</td>\n",
       "      <td>112</td>\n",
       "      <td>3000.0</td>\n",
       "      <td>0.0</td>\n",
       "      <td>0.0</td>\n",
       "      <td>0.0</td>\n",
       "      <td>30000.0</td>\n",
       "    </tr>\n",
       "    <tr>\n",
       "      <th>229379</th>\n",
       "      <td>11855859</td>\n",
       "      <td>2939497</td>\n",
       "      <td>12927</td>\n",
       "      <td>30000.00</td>\n",
       "      <td>88</td>\n",
       "      <td>750.0</td>\n",
       "      <td>0.0</td>\n",
       "      <td>0.0</td>\n",
       "      <td>0.0</td>\n",
       "      <td>7500.0</td>\n",
       "    </tr>\n",
       "    <tr>\n",
       "      <th>229400</th>\n",
       "      <td>124816</td>\n",
       "      <td>2939551</td>\n",
       "      <td>694134</td>\n",
       "      <td>5000.00</td>\n",
       "      <td>225</td>\n",
       "      <td>1550.0</td>\n",
       "      <td>0.0</td>\n",
       "      <td>3.0</td>\n",
       "      <td>522.0</td>\n",
       "      <td>15500.0</td>\n",
       "    </tr>\n",
       "    <tr>\n",
       "      <th>229401</th>\n",
       "      <td>124816</td>\n",
       "      <td>2939552</td>\n",
       "      <td>694133</td>\n",
       "      <td>5000.00</td>\n",
       "      <td>256</td>\n",
       "      <td>1550.0</td>\n",
       "      <td>0.0</td>\n",
       "      <td>3.0</td>\n",
       "      <td>522.0</td>\n",
       "      <td>15500.0</td>\n",
       "    </tr>\n",
       "    <tr>\n",
       "      <th>229417</th>\n",
       "      <td>89823</td>\n",
       "      <td>2939580</td>\n",
       "      <td>3188</td>\n",
       "      <td>12000.00</td>\n",
       "      <td>87</td>\n",
       "      <td>750.0</td>\n",
       "      <td>0.0</td>\n",
       "      <td>1.0</td>\n",
       "      <td>55.0</td>\n",
       "      <td>7500.0</td>\n",
       "    </tr>\n",
       "  </tbody>\n",
       "</table>\n",
       "<p>5816 rows × 10 columns</p>\n",
       "</div>"
      ],
      "text/plain": [
       "        MUSTERI_ID       ID   CEK_NO  CEK_TUTAR  VADE_GUN  BK_LIMIT  BK_RISK  \\\n",
       "12        11860577  2457952  1023231   12605.49        90    1000.0      0.0   \n",
       "87        11884594  2458126   381633   15000.00       113    5200.0      0.0   \n",
       "144       11793964  2458237  3167451    9500.00       120     750.0      0.0   \n",
       "168       11593517  2458278   271555   50000.00       166     550.0      0.0   \n",
       "177       11506837  2458290  8060375   23100.00       115     500.0      0.0   \n",
       "...            ...      ...      ...        ...       ...       ...      ...   \n",
       "229377    11620749  2939494  1614282   30000.00       112    3000.0      0.0   \n",
       "229379    11855859  2939497    12927   30000.00        88     750.0      0.0   \n",
       "229400      124816  2939551   694134    5000.00       225    1550.0      0.0   \n",
       "229401      124816  2939552   694133    5000.00       256    1550.0      0.0   \n",
       "229417       89823  2939580     3188   12000.00        87     750.0      0.0   \n",
       "\n",
       "        BK_GECIKMEHESAP  BK_GECIKMEBAKIYE  BK_ORAN  \n",
       "12                  0.0               0.0  10000.0  \n",
       "87                  1.0             296.0  52000.0  \n",
       "144                 0.0               0.0   7500.0  \n",
       "168                 1.0              35.0   5500.0  \n",
       "177                 0.0               0.0   5000.0  \n",
       "...                 ...               ...      ...  \n",
       "229377              0.0               0.0  30000.0  \n",
       "229379              0.0               0.0   7500.0  \n",
       "229400              3.0             522.0  15500.0  \n",
       "229401              3.0             522.0  15500.0  \n",
       "229417              1.0              55.0   7500.0  \n",
       "\n",
       "[5816 rows x 10 columns]"
      ]
     },
     "execution_count": 40,
     "metadata": {},
     "output_type": "execute_result"
    }
   ],
   "source": [
    "g_company_type_df[(g_company_type_df['BK_RISK'] != 0) & (g_company_type_df['BK_LIMIT'] == 0)]   # obtaining the case of RISK is not 0 but LIMIT is 0\n",
    "g_company_type_df[(g_company_type_df['BK_RISK'] == 0) & (g_company_type_df['BK_LIMIT'] != 0)]   # obtaining the case of RISK is 0 but LIMIT is not 0"
   ]
  },
  {
   "attachments": {},
   "cell_type": "markdown",
   "metadata": {},
   "source": [
    "As seen, there are several cases on the dataframe that one of those attribute is zero while other is not."
   ]
  },
  {
   "attachments": {},
   "cell_type": "markdown",
   "metadata": {},
   "source": [
    "We must create a new attribute called **BK_ORAN** which is ***derived by diving BK_RISK to BK_LIMIT***. It will represent as higher ratio provides higher reliability on the customer check payback\n",
    "\n",
    "*Meanwhile, must be aware of the cases where one of those attributes is equal to 0 and the other is not 0!*"
   ]
  },
  {
   "cell_type": "code",
   "execution_count": 34,
   "metadata": {},
   "outputs": [],
   "source": [
    "g_company_type_df['BK_ORAN'] = 0    # creating a new column for BK_ORAN and initializing it with 0\n",
    "\n",
    "# for cases of RISK and LIMIT both are not equal to 0, BK_ORAN is calculated as a ratio of LIMIT to RISK\n",
    "mask = (g_company_type_df['BK_RISK'] != 0) & (g_company_type_df['BK_LIMIT'] != 0)\n",
    "g_company_type_df.loc[mask, 'BK_ORAN'] = g_company_type_df.loc[mask, 'BK_LIMIT'] / g_company_type_df.loc[mask, 'BK_RISK']\n",
    "\n",
    "# for cases of RISK is equal to 0 but LIMIT is not 0, BK_ORAN is calculated as LIMIT / 0.1\n",
    "mask = (g_company_type_df['BK_RISK'] == 0) & (g_company_type_df['BK_LIMIT'] != 0)\n",
    "g_company_type_df.loc[mask, 'BK_ORAN'] = g_company_type_df.loc[mask, 'BK_LIMIT'] / 0.1  # assigning the value of RISK as 0.1 instead of 0\n",
    "\n",
    "# for cases of RISK is not 0 and LIMIT is equal to 0, BK_ORAN is calculated as 0.1 / RISK\n",
    "mask = (g_company_type_df['BK_LIMIT'] == 0) & (g_company_type_df['BK_RISK'] != 0)\n",
    "g_company_type_df.loc[mask, 'BK_ORAN'] = 0.1 / g_company_type_df.loc[mask, 'BK_RISK']   # assigning the value of LIMIT as 0.1 instead of 0\n",
    "\n",
    "mask = (g_company_type_df['BK_LIMIT'] == 0) & (g_company_type_df['BK_RISK'] == 0)\n",
    "g_company_type_df.loc[mask, 'BK_ORAN'] = 0\n",
    "\n"
   ]
  },
  {
   "cell_type": "code",
   "execution_count": 35,
   "metadata": {},
   "outputs": [
    {
     "data": {
      "text/plain": [
       "0    0.000000\n",
       "1    9.792035\n",
       "2    0.000000\n",
       "3    5.495201\n",
       "4    1.325602\n",
       "Name: BK_ORAN, dtype: float64"
      ]
     },
     "execution_count": 35,
     "metadata": {},
     "output_type": "execute_result"
    }
   ],
   "source": [
    "g_company_type_df['BK_ORAN'].head(5)"
   ]
  },
  {
   "cell_type": "code",
   "execution_count": 36,
   "metadata": {},
   "outputs": [
    {
     "data": {
      "text/plain": [
       "count    229538.000000\n",
       "mean        991.941698\n",
       "std       13452.459457\n",
       "min           0.000000\n",
       "25%           1.105593\n",
       "50%           1.381565\n",
       "75%           1.936203\n",
       "max      879000.000000\n",
       "Name: BK_ORAN, dtype: float64"
      ]
     },
     "execution_count": 36,
     "metadata": {},
     "output_type": "execute_result"
    }
   ],
   "source": [
    "g_company_type_df['BK_ORAN'].describe()                                                     # to see the statistical summary of the data"
   ]
  },
  {
   "attachments": {},
   "cell_type": "markdown",
   "metadata": {},
   "source": [
    "There is a huge difference between values. We are going to scale data to handle differentiation."
   ]
  },
  {
   "attachments": {},
   "cell_type": "markdown",
   "metadata": {},
   "source": [
    "Before scaling, must pivot dataset by customers. Then, divide into training and test datasets."
   ]
  },
  {
   "cell_type": "code",
   "execution_count": 42,
   "metadata": {},
   "outputs": [
    {
     "data": {
      "text/plain": [
       "11633272    243\n",
       "48268       176\n",
       "11550020    170\n",
       "11529385    161\n",
       "132381      153\n",
       "           ... \n",
       "11973509      1\n",
       "35325         1\n",
       "11791089      1\n",
       "12029820      1\n",
       "12016008      1\n",
       "Name: MUSTERI_ID, Length: 38374, dtype: int64"
      ]
     },
     "execution_count": 42,
     "metadata": {},
     "output_type": "execute_result"
    }
   ],
   "source": [
    "g_company_type_df['MUSTERI_ID'].value_counts()      # to see the number of occurrence of each customers"
   ]
  },
  {
   "cell_type": "code",
   "execution_count": 47,
   "metadata": {},
   "outputs": [],
   "source": [
    "del g_company_type_df['BK_LIMIT']\n",
    "del g_company_type_df['BK_RISK']\n",
    "del g_company_type_df['ID']"
   ]
  },
  {
   "cell_type": "code",
   "execution_count": 48,
   "metadata": {},
   "outputs": [
    {
     "data": {
      "text/html": [
       "<div>\n",
       "<style scoped>\n",
       "    .dataframe tbody tr th:only-of-type {\n",
       "        vertical-align: middle;\n",
       "    }\n",
       "\n",
       "    .dataframe tbody tr th {\n",
       "        vertical-align: top;\n",
       "    }\n",
       "\n",
       "    .dataframe thead th {\n",
       "        text-align: right;\n",
       "    }\n",
       "</style>\n",
       "<table border=\"1\" class=\"dataframe\">\n",
       "  <thead>\n",
       "    <tr style=\"text-align: right;\">\n",
       "      <th></th>\n",
       "      <th></th>\n",
       "      <th>CEK_TUTAR</th>\n",
       "      <th>VADE_GUN</th>\n",
       "      <th>BK_GECIKMEHESAP</th>\n",
       "      <th>BK_GECIKMEBAKIYE</th>\n",
       "      <th>BK_ORAN</th>\n",
       "    </tr>\n",
       "    <tr>\n",
       "      <th>MUSTERI_ID</th>\n",
       "      <th>CEK_NO</th>\n",
       "      <th></th>\n",
       "      <th></th>\n",
       "      <th></th>\n",
       "      <th></th>\n",
       "      <th></th>\n",
       "    </tr>\n",
       "  </thead>\n",
       "  <tbody>\n",
       "    <tr>\n",
       "      <th>11800527</th>\n",
       "      <th>70331933</th>\n",
       "      <td>20000.0</td>\n",
       "      <td>100</td>\n",
       "      <td>0.0</td>\n",
       "      <td>0.0</td>\n",
       "      <td>0.000000</td>\n",
       "    </tr>\n",
       "    <tr>\n",
       "      <th>12024009</th>\n",
       "      <th>3014103</th>\n",
       "      <td>25000.0</td>\n",
       "      <td>126</td>\n",
       "      <td>2.0</td>\n",
       "      <td>1012.0</td>\n",
       "      <td>9.792035</td>\n",
       "    </tr>\n",
       "    <tr>\n",
       "      <th>11800527</th>\n",
       "      <th>7031933</th>\n",
       "      <td>20000.0</td>\n",
       "      <td>100</td>\n",
       "      <td>0.0</td>\n",
       "      <td>0.0</td>\n",
       "      <td>0.000000</td>\n",
       "    </tr>\n",
       "    <tr>\n",
       "      <th>11724283</th>\n",
       "      <th>7198012</th>\n",
       "      <td>23000.0</td>\n",
       "      <td>151</td>\n",
       "      <td>3.0</td>\n",
       "      <td>3575.0</td>\n",
       "      <td>5.495201</td>\n",
       "    </tr>\n",
       "    <tr>\n",
       "      <th>11879266</th>\n",
       "      <th>9090937</th>\n",
       "      <td>10000.0</td>\n",
       "      <td>151</td>\n",
       "      <td>3.0</td>\n",
       "      <td>4128.0</td>\n",
       "      <td>1.325602</td>\n",
       "    </tr>\n",
       "    <tr>\n",
       "      <th>...</th>\n",
       "      <th>...</th>\n",
       "      <td>...</td>\n",
       "      <td>...</td>\n",
       "      <td>...</td>\n",
       "      <td>...</td>\n",
       "      <td>...</td>\n",
       "    </tr>\n",
       "    <tr>\n",
       "      <th rowspan=\"4\" valign=\"top\">11708128</th>\n",
       "      <th>8005260</th>\n",
       "      <td>25000.0</td>\n",
       "      <td>332</td>\n",
       "      <td>0.0</td>\n",
       "      <td>0.0</td>\n",
       "      <td>0.000000</td>\n",
       "    </tr>\n",
       "    <tr>\n",
       "      <th>363682</th>\n",
       "      <td>30000.0</td>\n",
       "      <td>347</td>\n",
       "      <td>0.0</td>\n",
       "      <td>0.0</td>\n",
       "      <td>0.000000</td>\n",
       "    </tr>\n",
       "    <tr>\n",
       "      <th>1246339</th>\n",
       "      <td>20000.0</td>\n",
       "      <td>271</td>\n",
       "      <td>0.0</td>\n",
       "      <td>0.0</td>\n",
       "      <td>0.000000</td>\n",
       "    </tr>\n",
       "    <tr>\n",
       "      <th>1019468</th>\n",
       "      <td>10000.0</td>\n",
       "      <td>302</td>\n",
       "      <td>0.0</td>\n",
       "      <td>0.0</td>\n",
       "      <td>0.000000</td>\n",
       "    </tr>\n",
       "    <tr>\n",
       "      <th>11882557</th>\n",
       "      <th>66582</th>\n",
       "      <td>18000.0</td>\n",
       "      <td>179</td>\n",
       "      <td>1.0</td>\n",
       "      <td>13.0</td>\n",
       "      <td>1.323379</td>\n",
       "    </tr>\n",
       "  </tbody>\n",
       "</table>\n",
       "<p>229538 rows × 5 columns</p>\n",
       "</div>"
      ],
      "text/plain": [
       "                     CEK_TUTAR  VADE_GUN  BK_GECIKMEHESAP  BK_GECIKMEBAKIYE  \\\n",
       "MUSTERI_ID CEK_NO                                                             \n",
       "11800527   70331933    20000.0       100              0.0               0.0   \n",
       "12024009   3014103     25000.0       126              2.0            1012.0   \n",
       "11800527   7031933     20000.0       100              0.0               0.0   \n",
       "11724283   7198012     23000.0       151              3.0            3575.0   \n",
       "11879266   9090937     10000.0       151              3.0            4128.0   \n",
       "...                        ...       ...              ...               ...   \n",
       "11708128   8005260     25000.0       332              0.0               0.0   \n",
       "           363682      30000.0       347              0.0               0.0   \n",
       "           1246339     20000.0       271              0.0               0.0   \n",
       "           1019468     10000.0       302              0.0               0.0   \n",
       "11882557   66582       18000.0       179              1.0              13.0   \n",
       "\n",
       "                      BK_ORAN  \n",
       "MUSTERI_ID CEK_NO              \n",
       "11800527   70331933  0.000000  \n",
       "12024009   3014103   9.792035  \n",
       "11800527   7031933   0.000000  \n",
       "11724283   7198012   5.495201  \n",
       "11879266   9090937   1.325602  \n",
       "...                       ...  \n",
       "11708128   8005260   0.000000  \n",
       "           363682    0.000000  \n",
       "           1246339   0.000000  \n",
       "           1019468   0.000000  \n",
       "11882557   66582     1.323379  \n",
       "\n",
       "[229538 rows x 5 columns]"
      ]
     },
     "execution_count": 48,
     "metadata": {},
     "output_type": "execute_result"
    }
   ],
   "source": [
    "# pivoting by customers and checks\n",
    "g_company_type_df.set_index(['MUSTERI_ID','CEK_NO'])"
   ]
  },
  {
   "attachments": {},
   "cell_type": "markdown",
   "metadata": {},
   "source": [
    "> Scaling Data"
   ]
  },
  {
   "cell_type": "code",
   "execution_count": 15,
   "metadata": {},
   "outputs": [],
   "source": [
    "from sklearn.preprocessing import StandardScaler\n",
    "scaler = StandardScaler()"
   ]
  },
  {
   "cell_type": "code",
   "execution_count": 49,
   "metadata": {},
   "outputs": [],
   "source": [
    "# selecting the columns to be scaled\n",
    "columns_to_scale = ['CEK_TUTAR', 'VADE_GUN', 'BK_GECIKMEBAKIYE', 'BK_ORAN']\n",
    "\n",
    "scaled_df = g_company_type_df[columns_to_scale]         # creating a new dataframe with the selected columns"
   ]
  },
  {
   "cell_type": "code",
   "execution_count": 51,
   "metadata": {},
   "outputs": [],
   "source": [
    "scaled_data = scaler.fit_transform(scaled_df)                       # fit and transform the data\n",
    "scaled_df = pd.DataFrame(scaled_data, columns=columns_to_scale)     # convert the scaled data array back into a DataFrame\n",
    "\n",
    "g_company_type_df[columns_to_scale] = scaled_df                     # finally, assign the scaled values back to the main original dataFrame"
   ]
  },
  {
   "cell_type": "code",
   "execution_count": 52,
   "metadata": {},
   "outputs": [
    {
     "data": {
      "text/html": [
       "<div>\n",
       "<style scoped>\n",
       "    .dataframe tbody tr th:only-of-type {\n",
       "        vertical-align: middle;\n",
       "    }\n",
       "\n",
       "    .dataframe tbody tr th {\n",
       "        vertical-align: top;\n",
       "    }\n",
       "\n",
       "    .dataframe thead th {\n",
       "        text-align: right;\n",
       "    }\n",
       "</style>\n",
       "<table border=\"1\" class=\"dataframe\">\n",
       "  <thead>\n",
       "    <tr style=\"text-align: right;\">\n",
       "      <th></th>\n",
       "      <th>MUSTERI_ID</th>\n",
       "      <th>CEK_NO</th>\n",
       "      <th>CEK_TUTAR</th>\n",
       "      <th>VADE_GUN</th>\n",
       "      <th>BK_GECIKMEHESAP</th>\n",
       "      <th>BK_GECIKMEBAKIYE</th>\n",
       "      <th>BK_ORAN</th>\n",
       "    </tr>\n",
       "  </thead>\n",
       "  <tbody>\n",
       "    <tr>\n",
       "      <th>0</th>\n",
       "      <td>11800527</td>\n",
       "      <td>70331933</td>\n",
       "      <td>-0.085742</td>\n",
       "      <td>-0.285251</td>\n",
       "      <td>-0.886037</td>\n",
       "      <td>-0.118656</td>\n",
       "      <td>-0.073737</td>\n",
       "    </tr>\n",
       "    <tr>\n",
       "      <th>1</th>\n",
       "      <td>12024009</td>\n",
       "      <td>3014103</td>\n",
       "      <td>-0.012577</td>\n",
       "      <td>0.164097</td>\n",
       "      <td>0.032701</td>\n",
       "      <td>-0.064155</td>\n",
       "      <td>-0.073009</td>\n",
       "    </tr>\n",
       "    <tr>\n",
       "      <th>2</th>\n",
       "      <td>11800527</td>\n",
       "      <td>7031933</td>\n",
       "      <td>-0.085742</td>\n",
       "      <td>-0.285251</td>\n",
       "      <td>-0.886037</td>\n",
       "      <td>-0.118656</td>\n",
       "      <td>-0.073737</td>\n",
       "    </tr>\n",
       "    <tr>\n",
       "      <th>3</th>\n",
       "      <td>11724283</td>\n",
       "      <td>7198012</td>\n",
       "      <td>-0.041843</td>\n",
       "      <td>0.596162</td>\n",
       "      <td>0.492070</td>\n",
       "      <td>0.073876</td>\n",
       "      <td>-0.073328</td>\n",
       "    </tr>\n",
       "    <tr>\n",
       "      <th>4</th>\n",
       "      <td>11879266</td>\n",
       "      <td>9090937</td>\n",
       "      <td>-0.232073</td>\n",
       "      <td>0.596162</td>\n",
       "      <td>0.492070</td>\n",
       "      <td>0.103658</td>\n",
       "      <td>-0.073638</td>\n",
       "    </tr>\n",
       "  </tbody>\n",
       "</table>\n",
       "</div>"
      ],
      "text/plain": [
       "   MUSTERI_ID    CEK_NO  CEK_TUTAR  VADE_GUN  BK_GECIKMEHESAP  \\\n",
       "0    11800527  70331933  -0.085742 -0.285251        -0.886037   \n",
       "1    12024009   3014103  -0.012577  0.164097         0.032701   \n",
       "2    11800527   7031933  -0.085742 -0.285251        -0.886037   \n",
       "3    11724283   7198012  -0.041843  0.596162         0.492070   \n",
       "4    11879266   9090937  -0.232073  0.596162         0.492070   \n",
       "\n",
       "   BK_GECIKMEBAKIYE   BK_ORAN  \n",
       "0         -0.118656 -0.073737  \n",
       "1         -0.064155 -0.073009  \n",
       "2         -0.118656 -0.073737  \n",
       "3          0.073876 -0.073328  \n",
       "4          0.103658 -0.073638  "
      ]
     },
     "execution_count": 52,
     "metadata": {},
     "output_type": "execute_result"
    }
   ],
   "source": [
    "g_company_type_df.head(5)"
   ]
  },
  {
   "attachments": {},
   "cell_type": "markdown",
   "metadata": {},
   "source": [
    "> Training/Test Data Split\n",
    "\n",
    "Creating two datasets which stands for testing and training. Their ratio is 8/2 as mostly used in ML studies. The train dataset is going to be used to put into the model. The testing data -which has 2 ratio- substituted to calculate the silhouette score of model."
   ]
  },
  {
   "cell_type": "code",
   "execution_count": 59,
   "metadata": {},
   "outputs": [],
   "source": [
    "from sklearn.model_selection import train_test_split"
   ]
  },
  {
   "cell_type": "code",
   "execution_count": 60,
   "metadata": {},
   "outputs": [],
   "source": [
    "# selecting the input columns for clustering\n",
    "feature_columns = ['CEK_TUTAR', 'VADE_GUN', 'BK_GECIKMEHESAP', 'BK_GECIKMEBAKIYE', 'BK_ORAN']\n",
    "\n",
    "# splitting the data into training and test sets by 8/2 ratio\n",
    "X_train, X_test = train_test_split(g_company_type_df[feature_columns], test_size=0.2, random_state=42)"
   ]
  },
  {
   "attachments": {},
   "cell_type": "markdown",
   "metadata": {},
   "source": [
    "> Cross-Validation"
   ]
  },
  {
   "cell_type": "code",
   "execution_count": null,
   "metadata": {},
   "outputs": [],
   "source": [
    "# ..."
   ]
  },
  {
   "attachments": {},
   "cell_type": "markdown",
   "metadata": {},
   "source": [
    "> Elbow Method\n",
    "\n",
    "We aim to maximize the efficiency of segmentation while minimizing the number of clusters. In this sense, Elbow Method is crucial concept to satisfy this requirement."
   ]
  },
  {
   "cell_type": "code",
   "execution_count": 53,
   "metadata": {},
   "outputs": [],
   "source": [
    "# importing scikit-learning library for the K-means model\n",
    "from sklearn.cluster import KMeans"
   ]
  },
  {
   "cell_type": "code",
   "execution_count": 54,
   "metadata": {},
   "outputs": [],
   "source": [
    "def find_optimal_clusters(df, maximum_K):\n",
    "    clusters_centers = []   # appending inertia value coming from the model\n",
    "    k_values = []           # putting k values from 0 to maximum K\n",
    "\n",
    "    for k in range(1, maximum_K):\n",
    "        kmeans_model = KMeans(n_clusters = k)\n",
    "        kmeans_model.fit(df)\n",
    "\n",
    "        clusters_centers.append(kmeans_model.inertia_)\n",
    "        k_values.append(k)\n",
    "\n",
    "    return clusters_centers, k_values"
   ]
  },
  {
   "attachments": {},
   "cell_type": "markdown",
   "metadata": {},
   "source": [
    "*Note About **Inertia***:\n",
    "\n",
    "Inertia measures how well a dataset was clustered by K-Means. It is calculated by measuring the distance between each data point and its centroid, squaring this distance, and summing these squares across one cluster. **A good model is one with low inertia** and **a low number of clusters** (K) *-Codeacademy*"
   ]
  },
  {
   "attachments": {},
   "cell_type": "markdown",
   "metadata": {},
   "source": [
    "In the next step, illustrating an elbow method for the data"
   ]
  },
  {
   "cell_type": "code",
   "execution_count": 55,
   "metadata": {},
   "outputs": [],
   "source": [
    "def generate_elbow_plot(clusters_centers, k_values):\n",
    "    figure = plt.subplots(figsize = (12, 6))\n",
    "    plt.plot(k_values, clusters_centers, 'o-', color = 'blue')\n",
    "    plt.xlabel(\"Number of Clusters\")\n",
    "    plt.ylabel(\"Cluster Inertia\")\n",
    "    plt.title(\"Elbow Plot of Model\")\n",
    "    plt.show()"
   ]
  },
  {
   "cell_type": "code",
   "execution_count": 58,
   "metadata": {},
   "outputs": [
    {
     "name": "stderr",
     "output_type": "stream",
     "text": [
      "c:\\Users\\emirh\\AppData\\Local\\Programs\\Python\\Python311\\Lib\\site-packages\\sklearn\\cluster\\_kmeans.py:870: FutureWarning: The default value of `n_init` will change from 10 to 'auto' in 1.4. Set the value of `n_init` explicitly to suppress the warning\n",
      "  warnings.warn(\n",
      "c:\\Users\\emirh\\AppData\\Local\\Programs\\Python\\Python311\\Lib\\site-packages\\sklearn\\cluster\\_kmeans.py:870: FutureWarning: The default value of `n_init` will change from 10 to 'auto' in 1.4. Set the value of `n_init` explicitly to suppress the warning\n",
      "  warnings.warn(\n",
      "c:\\Users\\emirh\\AppData\\Local\\Programs\\Python\\Python311\\Lib\\site-packages\\sklearn\\cluster\\_kmeans.py:870: FutureWarning: The default value of `n_init` will change from 10 to 'auto' in 1.4. Set the value of `n_init` explicitly to suppress the warning\n",
      "  warnings.warn(\n",
      "c:\\Users\\emirh\\AppData\\Local\\Programs\\Python\\Python311\\Lib\\site-packages\\sklearn\\cluster\\_kmeans.py:870: FutureWarning: The default value of `n_init` will change from 10 to 'auto' in 1.4. Set the value of `n_init` explicitly to suppress the warning\n",
      "  warnings.warn(\n",
      "c:\\Users\\emirh\\AppData\\Local\\Programs\\Python\\Python311\\Lib\\site-packages\\sklearn\\cluster\\_kmeans.py:870: FutureWarning: The default value of `n_init` will change from 10 to 'auto' in 1.4. Set the value of `n_init` explicitly to suppress the warning\n",
      "  warnings.warn(\n",
      "c:\\Users\\emirh\\AppData\\Local\\Programs\\Python\\Python311\\Lib\\site-packages\\sklearn\\cluster\\_kmeans.py:870: FutureWarning: The default value of `n_init` will change from 10 to 'auto' in 1.4. Set the value of `n_init` explicitly to suppress the warning\n",
      "  warnings.warn(\n",
      "c:\\Users\\emirh\\AppData\\Local\\Programs\\Python\\Python311\\Lib\\site-packages\\sklearn\\cluster\\_kmeans.py:870: FutureWarning: The default value of `n_init` will change from 10 to 'auto' in 1.4. Set the value of `n_init` explicitly to suppress the warning\n",
      "  warnings.warn(\n",
      "c:\\Users\\emirh\\AppData\\Local\\Programs\\Python\\Python311\\Lib\\site-packages\\sklearn\\cluster\\_kmeans.py:870: FutureWarning: The default value of `n_init` will change from 10 to 'auto' in 1.4. Set the value of `n_init` explicitly to suppress the warning\n",
      "  warnings.warn(\n",
      "c:\\Users\\emirh\\AppData\\Local\\Programs\\Python\\Python311\\Lib\\site-packages\\sklearn\\cluster\\_kmeans.py:870: FutureWarning: The default value of `n_init` will change from 10 to 'auto' in 1.4. Set the value of `n_init` explicitly to suppress the warning\n",
      "  warnings.warn(\n",
      "c:\\Users\\emirh\\AppData\\Local\\Programs\\Python\\Python311\\Lib\\site-packages\\sklearn\\cluster\\_kmeans.py:870: FutureWarning: The default value of `n_init` will change from 10 to 'auto' in 1.4. Set the value of `n_init` explicitly to suppress the warning\n",
      "  warnings.warn(\n",
      "c:\\Users\\emirh\\AppData\\Local\\Programs\\Python\\Python311\\Lib\\site-packages\\sklearn\\cluster\\_kmeans.py:870: FutureWarning: The default value of `n_init` will change from 10 to 'auto' in 1.4. Set the value of `n_init` explicitly to suppress the warning\n",
      "  warnings.warn(\n",
      "c:\\Users\\emirh\\AppData\\Local\\Programs\\Python\\Python311\\Lib\\site-packages\\sklearn\\cluster\\_kmeans.py:870: FutureWarning: The default value of `n_init` will change from 10 to 'auto' in 1.4. Set the value of `n_init` explicitly to suppress the warning\n",
      "  warnings.warn(\n",
      "c:\\Users\\emirh\\AppData\\Local\\Programs\\Python\\Python311\\Lib\\site-packages\\sklearn\\cluster\\_kmeans.py:870: FutureWarning: The default value of `n_init` will change from 10 to 'auto' in 1.4. Set the value of `n_init` explicitly to suppress the warning\n",
      "  warnings.warn(\n",
      "c:\\Users\\emirh\\AppData\\Local\\Programs\\Python\\Python311\\Lib\\site-packages\\sklearn\\cluster\\_kmeans.py:870: FutureWarning: The default value of `n_init` will change from 10 to 'auto' in 1.4. Set the value of `n_init` explicitly to suppress the warning\n",
      "  warnings.warn(\n",
      "c:\\Users\\emirh\\AppData\\Local\\Programs\\Python\\Python311\\Lib\\site-packages\\sklearn\\cluster\\_kmeans.py:870: FutureWarning: The default value of `n_init` will change from 10 to 'auto' in 1.4. Set the value of `n_init` explicitly to suppress the warning\n",
      "  warnings.warn(\n"
     ]
    },
    {
     "data": {
      "image/png": "[encoded data removed]",
      "text/plain": [
       "<Figure size 1200x600 with 1 Axes>"
      ]
     },
     "metadata": {},
     "output_type": "display_data"
    }
   ],
   "source": [
    "clusters_centers, k_values = find_optimal_clusters(g_company_type_df[feature_columns], 16)\n",
    "generate_elbow_plot(clusters_centers, k_values)"
   ]
  },
  {
   "attachments": {},
   "cell_type": "markdown",
   "metadata": {},
   "source": [
    "> Putting Into K-means Model"
   ]
  },
  {
   "cell_type": "code",
   "execution_count": 66,
   "metadata": {},
   "outputs": [],
   "source": [
    "from sklearn.cluster import KMeans\n",
    "from sklearn.metrics import silhouette_score"
   ]
  },
  {
   "cell_type": "code",
   "execution_count": 63,
   "metadata": {},
   "outputs": [
    {
     "name": "stderr",
     "output_type": "stream",
     "text": [
      "c:\\Users\\emirh\\AppData\\Local\\Programs\\Python\\Python311\\Lib\\site-packages\\sklearn\\cluster\\_kmeans.py:870: FutureWarning: The default value of `n_init` will change from 10 to 'auto' in 1.4. Set the value of `n_init` explicitly to suppress the warning\n",
      "  warnings.warn(\n"
     ]
    }
   ],
   "source": [
    "kmeans = KMeans(n_clusters=6, random_state=42)  # initialize the k-means model by using the optimal number of clusters found in the elbow method\n",
    "kmeans.fit(X_train)                             # fit the k-means model to the training data\n",
    "train_clusters = kmeans.predict(X_train)        # predict the clusters for the training data"
   ]
  },
  {
   "cell_type": "code",
   "execution_count": null,
   "metadata": {},
   "outputs": [],
   "source": [
    "# calculating the silhouette score for the training data where X_train is trained data and train_clusters are the labels\n",
    "silhouette_train = silhouette_score(X_train, train_clusters)\n",
    "\n",
    "# print the silhouette score\n",
    "print(\"Silhouette Score (Training):\", silhouette_train)"
   ]
  }
 ],
 "metadata": {
  "kernelspec": {
   "display_name": "Python 3",
   "language": "python",
   "name": "python3"
  },
  "language_info": {
   "codemirror_mode": {
    "name": "ipython",
    "version": 3
   },
   "file_extension": ".py",
   "mimetype": "text/x-python",
   "name": "python",
   "nbconvert_exporter": "python",
   "pygments_lexer": "ipython3",
   "version": "3.11.3"
  },
  "orig_nbformat": 4
 },
 "nbformat": 4,
 "nbformat_minor": 2
}
